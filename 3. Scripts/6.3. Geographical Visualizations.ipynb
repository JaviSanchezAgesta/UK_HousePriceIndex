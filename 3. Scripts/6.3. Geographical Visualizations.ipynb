{
 "cells": [
  {
   "cell_type": "markdown",
   "id": "7f897974",
   "metadata": {},
   "source": [
    "# Task 6.3. Geographical Visualizations"
   ]
  },
  {
   "cell_type": "markdown",
   "id": "e5be8837",
   "metadata": {},
   "source": [
    "### This script contains the following:\n",
    "#### 1. Import data and libraries\n",
    "#### 2. Creating and importing JSON file\n",
    "#### 3. Data wrangling \n",
    "#### 4. Data cleaning\n",
    "#### 5. Choropleth map\n",
    "#### 6. Conclussions"
   ]
  },
  {
   "cell_type": "markdown",
   "id": "e777dc74",
   "metadata": {},
   "source": [
    "### 1. Importing libraries and data"
   ]
  },
  {
   "cell_type": "code",
   "execution_count": 1,
   "id": "3c75570e",
   "metadata": {},
   "outputs": [],
   "source": [
    "# To import the libraries\n",
    "\n",
    "import pandas as pd\n",
    "import numpy as np\n",
    "import seaborn as sns\n",
    "import matplotlib\n",
    "import os\n",
    "import folium\n",
    "import json"
   ]
  },
  {
   "cell_type": "code",
   "execution_count": 2,
   "id": "1147a83a",
   "metadata": {},
   "outputs": [],
   "source": [
    "# Then we create a path \n",
    "\n",
    "path = r'C:\\Users\\javis\\OneDrive\\Documentos\\Career Foundry\\2. Data Immersion\\6. Advanced Analytics\\UK HPI Project'"
   ]
  },
  {
   "cell_type": "code",
   "execution_count": 3,
   "id": "d4d5fdc9",
   "metadata": {},
   "outputs": [],
   "source": [
    "# We import our data, which had already been cleaned\n",
    "\n",
    "df = pd.read_csv(os.path.join(path,'2. Data', '2.2. Prepared Data', 'HPI wrangled.csv'), index_col = False)"
   ]
  },
  {
   "cell_type": "code",
   "execution_count": 4,
   "id": "39e004b4",
   "metadata": {},
   "outputs": [
    {
     "data": {
      "text/html": [
       "<div>\n",
       "<style scoped>\n",
       "    .dataframe tbody tr th:only-of-type {\n",
       "        vertical-align: middle;\n",
       "    }\n",
       "\n",
       "    .dataframe tbody tr th {\n",
       "        vertical-align: top;\n",
       "    }\n",
       "\n",
       "    .dataframe thead th {\n",
       "        text-align: right;\n",
       "    }\n",
       "</style>\n",
       "<table border=\"1\" class=\"dataframe\">\n",
       "  <thead>\n",
       "    <tr style=\"text-align: right;\">\n",
       "      <th></th>\n",
       "      <th>Unnamed: 0</th>\n",
       "      <th>Date</th>\n",
       "      <th>RegionName</th>\n",
       "      <th>AreaCode</th>\n",
       "      <th>AveragePrice</th>\n",
       "      <th>Index</th>\n",
       "      <th>IndexSA</th>\n",
       "      <th>%Change_AvgPrice_1month</th>\n",
       "      <th>%Change_AvgPrice_12months</th>\n",
       "      <th>AveragePriceSA</th>\n",
       "      <th>...</th>\n",
       "      <th>NewPrice</th>\n",
       "      <th>NewIndex</th>\n",
       "      <th>New1m%Change</th>\n",
       "      <th>New12m%Change</th>\n",
       "      <th>NewSalesVolume</th>\n",
       "      <th>OldPrice</th>\n",
       "      <th>OldIndex</th>\n",
       "      <th>Old1m%Change</th>\n",
       "      <th>Old12m%Change</th>\n",
       "      <th>OldSalesVolume</th>\n",
       "    </tr>\n",
       "  </thead>\n",
       "  <tbody>\n",
       "    <tr>\n",
       "      <th>0</th>\n",
       "      <td>0</td>\n",
       "      <td>01/01/2004</td>\n",
       "      <td>Aberdeenshire</td>\n",
       "      <td>S12000034</td>\n",
       "      <td>81693.66964</td>\n",
       "      <td>40.864214</td>\n",
       "      <td>NaN</td>\n",
       "      <td>NaN</td>\n",
       "      <td>NaN</td>\n",
       "      <td>NaN</td>\n",
       "      <td>...</td>\n",
       "      <td>88436.13953</td>\n",
       "      <td>40.267250</td>\n",
       "      <td>NaN</td>\n",
       "      <td>NaN</td>\n",
       "      <td>103.0</td>\n",
       "      <td>81043.95084</td>\n",
       "      <td>40.883367</td>\n",
       "      <td>NaN</td>\n",
       "      <td>NaN</td>\n",
       "      <td>285.0</td>\n",
       "    </tr>\n",
       "    <tr>\n",
       "      <th>1</th>\n",
       "      <td>1</td>\n",
       "      <td>01/02/2004</td>\n",
       "      <td>Aberdeenshire</td>\n",
       "      <td>S12000034</td>\n",
       "      <td>81678.76231</td>\n",
       "      <td>40.856757</td>\n",
       "      <td>NaN</td>\n",
       "      <td>-0.018248</td>\n",
       "      <td>NaN</td>\n",
       "      <td>NaN</td>\n",
       "      <td>...</td>\n",
       "      <td>88606.44649</td>\n",
       "      <td>40.344795</td>\n",
       "      <td>0.192576</td>\n",
       "      <td>NaN</td>\n",
       "      <td>107.0</td>\n",
       "      <td>80965.29542</td>\n",
       "      <td>40.843688</td>\n",
       "      <td>-0.097053</td>\n",
       "      <td>NaN</td>\n",
       "      <td>219.0</td>\n",
       "    </tr>\n",
       "    <tr>\n",
       "      <th>2</th>\n",
       "      <td>2</td>\n",
       "      <td>01/03/2004</td>\n",
       "      <td>Aberdeenshire</td>\n",
       "      <td>S12000034</td>\n",
       "      <td>83525.09702</td>\n",
       "      <td>41.780317</td>\n",
       "      <td>NaN</td>\n",
       "      <td>2.260483</td>\n",
       "      <td>NaN</td>\n",
       "      <td>NaN</td>\n",
       "      <td>...</td>\n",
       "      <td>90296.91375</td>\n",
       "      <td>41.114508</td>\n",
       "      <td>1.907838</td>\n",
       "      <td>NaN</td>\n",
       "      <td>140.0</td>\n",
       "      <td>82903.23948</td>\n",
       "      <td>41.821302</td>\n",
       "      <td>2.393549</td>\n",
       "      <td>NaN</td>\n",
       "      <td>313.0</td>\n",
       "    </tr>\n",
       "    <tr>\n",
       "      <th>3</th>\n",
       "      <td>3</td>\n",
       "      <td>01/04/2004</td>\n",
       "      <td>Aberdeenshire</td>\n",
       "      <td>S12000034</td>\n",
       "      <td>84333.67900</td>\n",
       "      <td>42.184780</td>\n",
       "      <td>NaN</td>\n",
       "      <td>0.968071</td>\n",
       "      <td>NaN</td>\n",
       "      <td>NaN</td>\n",
       "      <td>...</td>\n",
       "      <td>90319.87844</td>\n",
       "      <td>41.124964</td>\n",
       "      <td>0.025432</td>\n",
       "      <td>NaN</td>\n",
       "      <td>180.0</td>\n",
       "      <td>84003.99161</td>\n",
       "      <td>42.376586</td>\n",
       "      <td>1.327755</td>\n",
       "      <td>NaN</td>\n",
       "      <td>391.0</td>\n",
       "    </tr>\n",
       "    <tr>\n",
       "      <th>4</th>\n",
       "      <td>4</td>\n",
       "      <td>01/05/2004</td>\n",
       "      <td>Aberdeenshire</td>\n",
       "      <td>S12000034</td>\n",
       "      <td>86379.95396</td>\n",
       "      <td>43.208353</td>\n",
       "      <td>NaN</td>\n",
       "      <td>2.426403</td>\n",
       "      <td>NaN</td>\n",
       "      <td>NaN</td>\n",
       "      <td>...</td>\n",
       "      <td>91989.17763</td>\n",
       "      <td>41.885039</td>\n",
       "      <td>1.848208</td>\n",
       "      <td>NaN</td>\n",
       "      <td>167.0</td>\n",
       "      <td>86222.73484</td>\n",
       "      <td>43.495852</td>\n",
       "      <td>2.641235</td>\n",
       "      <td>NaN</td>\n",
       "      <td>335.0</td>\n",
       "    </tr>\n",
       "  </tbody>\n",
       "</table>\n",
       "<p>5 rows × 55 columns</p>\n",
       "</div>"
      ],
      "text/plain": [
       "   Unnamed: 0        Date     RegionName   AreaCode  AveragePrice      Index  \\\n",
       "0           0  01/01/2004  Aberdeenshire  S12000034   81693.66964  40.864214   \n",
       "1           1  01/02/2004  Aberdeenshire  S12000034   81678.76231  40.856757   \n",
       "2           2  01/03/2004  Aberdeenshire  S12000034   83525.09702  41.780317   \n",
       "3           3  01/04/2004  Aberdeenshire  S12000034   84333.67900  42.184780   \n",
       "4           4  01/05/2004  Aberdeenshire  S12000034   86379.95396  43.208353   \n",
       "\n",
       "   IndexSA  %Change_AvgPrice_1month  %Change_AvgPrice_12months  \\\n",
       "0      NaN                      NaN                        NaN   \n",
       "1      NaN                -0.018248                        NaN   \n",
       "2      NaN                 2.260483                        NaN   \n",
       "3      NaN                 0.968071                        NaN   \n",
       "4      NaN                 2.426403                        NaN   \n",
       "\n",
       "   AveragePriceSA  ...     NewPrice   NewIndex  New1m%Change  New12m%Change  \\\n",
       "0             NaN  ...  88436.13953  40.267250           NaN            NaN   \n",
       "1             NaN  ...  88606.44649  40.344795      0.192576            NaN   \n",
       "2             NaN  ...  90296.91375  41.114508      1.907838            NaN   \n",
       "3             NaN  ...  90319.87844  41.124964      0.025432            NaN   \n",
       "4             NaN  ...  91989.17763  41.885039      1.848208            NaN   \n",
       "\n",
       "   NewSalesVolume     OldPrice   OldIndex  Old1m%Change  Old12m%Change  \\\n",
       "0           103.0  81043.95084  40.883367           NaN            NaN   \n",
       "1           107.0  80965.29542  40.843688     -0.097053            NaN   \n",
       "2           140.0  82903.23948  41.821302      2.393549            NaN   \n",
       "3           180.0  84003.99161  42.376586      1.327755            NaN   \n",
       "4           167.0  86222.73484  43.495852      2.641235            NaN   \n",
       "\n",
       "   OldSalesVolume  \n",
       "0           285.0  \n",
       "1           219.0  \n",
       "2           313.0  \n",
       "3           391.0  \n",
       "4           335.0  \n",
       "\n",
       "[5 rows x 55 columns]"
      ]
     },
     "execution_count": 4,
     "metadata": {},
     "output_type": "execute_result"
    }
   ],
   "source": [
    "# To have a look at how it looks like\n",
    "\n",
    "df.head()"
   ]
  },
  {
   "cell_type": "code",
   "execution_count": 5,
   "id": "07994c07",
   "metadata": {},
   "outputs": [],
   "source": [
    "# This command propts matplotlib visuals to appear in the notebook \n",
    "\n",
    "%matplotlib inline"
   ]
  },
  {
   "cell_type": "markdown",
   "id": "158690e1",
   "metadata": {},
   "source": [
    "### 2. Importing JSON file"
   ]
  },
  {
   "cell_type": "code",
   "execution_count": 6,
   "id": "4d2e1a88",
   "metadata": {},
   "outputs": [],
   "source": [
    "uk_geo = r'C:\\Users\\javis\\OneDrive\\Documentos\\Career Foundry\\2. Data Immersion\\6. Advanced Analytics\\UK HPI Project\\2. Data\\2.1. Original Data\\topo_lad.json'"
   ]
  },
  {
   "cell_type": "code",
   "execution_count": 44,
   "id": "e0ec3f8e",
   "metadata": {},
   "outputs": [
    {
     "ename": "KeyError",
     "evalue": "'name'",
     "output_type": "error",
     "traceback": [
      "\u001b[1;31m---------------------------------------------------------------------------\u001b[0m",
      "\u001b[1;31mKeyError\u001b[0m                                  Traceback (most recent call last)",
      "\u001b[1;32m<ipython-input-44-1753cb4ef2eb>\u001b[0m in \u001b[0;36m<module>\u001b[1;34m\u001b[0m\n\u001b[0;32m      7\u001b[0m \u001b[1;33m\u001b[0m\u001b[0m\n\u001b[0;32m      8\u001b[0m \u001b[1;31m# Iterating through the json list\u001b[0m\u001b[1;33m\u001b[0m\u001b[1;33m\u001b[0m\u001b[1;33m\u001b[0m\u001b[0m\n\u001b[1;32m----> 9\u001b[1;33m \u001b[1;32mfor\u001b[0m \u001b[0mi\u001b[0m \u001b[1;32min\u001b[0m \u001b[0mdata\u001b[0m\u001b[1;33m[\u001b[0m\u001b[1;34m'name'\u001b[0m\u001b[1;33m]\u001b[0m\u001b[1;33m:\u001b[0m\u001b[1;33m\u001b[0m\u001b[1;33m\u001b[0m\u001b[0m\n\u001b[0m\u001b[0;32m     10\u001b[0m     \u001b[0mprint\u001b[0m\u001b[1;33m(\u001b[0m\u001b[0mi\u001b[0m\u001b[1;33m)\u001b[0m\u001b[1;33m\u001b[0m\u001b[1;33m\u001b[0m\u001b[0m\n",
      "\u001b[1;31mKeyError\u001b[0m: 'name'"
     ]
    }
   ],
   "source": [
    "# To have a look at the JSON file contents\n",
    "\n",
    "f = open(r'C:\\Users\\javis\\OneDrive\\Documentos\\Career Foundry\\2. Data Immersion\\6. Advanced Analytics\\UK HPI Project\\2. Data\\2.1. Original Data\\topo_lad.json',)\n",
    "  \n",
    "# returns JSON object asa dictionary\n",
    "data = json.load(f)\n",
    "\n",
    "# Iterating through the json list\n",
    "for i in data['name']:\n",
    "    print(i)"
   ]
  },
  {
   "cell_type": "markdown",
   "id": "188e3ff1",
   "metadata": {},
   "source": [
    "### 3. Data wrangling"
   ]
  },
  {
   "cell_type": "code",
   "execution_count": 10,
   "id": "75107c5e",
   "metadata": {},
   "outputs": [
    {
     "data": {
      "text/plain": [
       "(134829, 55)"
      ]
     },
     "execution_count": 10,
     "metadata": {},
     "output_type": "execute_result"
    }
   ],
   "source": [
    "df.shape"
   ]
  },
  {
   "cell_type": "code",
   "execution_count": 11,
   "id": "64995aa9",
   "metadata": {},
   "outputs": [
    {
     "data": {
      "text/plain": [
       "Unnamed: 0                        0\n",
       "Date                              0\n",
       "RegionName                        0\n",
       "AreaCode                          0\n",
       "AveragePrice                      0\n",
       "Index                             0\n",
       "IndexSA                      130305\n",
       "%Change_AvgPrice_1month         443\n",
       "%Change_AvgPrice_12months      5040\n",
       "AveragePriceSA               130305\n",
       "SalesVolume                    4499\n",
       "DetachedPrice                  6237\n",
       "DetachedIndex                  6237\n",
       "Detached1m%Change              6646\n",
       "Detached12m%Change            11121\n",
       "SemiDetachedPrice              6225\n",
       "SemiDetachedIndex              6225\n",
       "SemiDetached1m%Change          6634\n",
       "SemiDetached12m%Change        11109\n",
       "TerracedPrice                  6198\n",
       "TerracedIndex                  6198\n",
       "Terraced1m%Change              6607\n",
       "Terraced12m%Change            11082\n",
       "FlatPrice                      5901\n",
       "FlatIndex                      5901\n",
       "Flat1m%Change                  6311\n",
       "Flat12m%Change                10797\n",
       "CashPrice                     85869\n",
       "CashIndex                     85869\n",
       "Cash1m%Change                 86275\n",
       "Cash12m%Change                90741\n",
       "CashSalesVolume               86686\n",
       "MortgagePrice                 85869\n",
       "MortgageIndex                 85869\n",
       "Mortgage1m%Change             86275\n",
       "Mortgage12m%Change            90741\n",
       "MortgageSalesVolume           86685\n",
       "FTBPrice                      85473\n",
       "FTBIndex                      85473\n",
       "FTB1m%Change                  85879\n",
       "FTB12m%Change                 90345\n",
       "FOOPrice                      85869\n",
       "FOOIndex                      85869\n",
       "FOO1m%Change                  86275\n",
       "FOO12m%Change                 90741\n",
       "NewPrice                       6724\n",
       "NewIndex                       6724\n",
       "New1m%Change                   7134\n",
       "New12m%Change                 11620\n",
       "NewSalesVolume                 7087\n",
       "OldPrice                       6721\n",
       "OldIndex                       6721\n",
       "Old1m%Change                   7131\n",
       "Old12m%Change                 11617\n",
       "OldSalesVolume                 6734\n",
       "dtype: int64"
      ]
     },
     "execution_count": 11,
     "metadata": {},
     "output_type": "execute_result"
    }
   ],
   "source": [
    "# Check for missing values\n",
    "\n",
    "df.isnull().sum()"
   ]
  },
  {
   "cell_type": "code",
   "execution_count": 14,
   "id": "c7c82265",
   "metadata": {},
   "outputs": [],
   "source": [
    "# I will create a subset for those variables that I will use for our analysis. But I will define the columns first\n",
    "\n",
    "columns = [\"RegionName\",\"AreaCode\", \"AveragePrice\", \"Index\",\"%Change_AvgPrice_1month\",\"%Change_AvgPrice_12months\", \"NewPrice\",\"NewSalesVolume\", \"OldPrice\", \"OldSalesVolume\"]"
   ]
  },
  {
   "cell_type": "code",
   "execution_count": 15,
   "id": "0033c557",
   "metadata": {},
   "outputs": [],
   "source": [
    "# To create the subset\n",
    "\n",
    "uk_hpi = df[columns]"
   ]
  },
  {
   "cell_type": "code",
   "execution_count": 16,
   "id": "cc296e8e",
   "metadata": {},
   "outputs": [
    {
     "data": {
      "text/html": [
       "<div>\n",
       "<style scoped>\n",
       "    .dataframe tbody tr th:only-of-type {\n",
       "        vertical-align: middle;\n",
       "    }\n",
       "\n",
       "    .dataframe tbody tr th {\n",
       "        vertical-align: top;\n",
       "    }\n",
       "\n",
       "    .dataframe thead th {\n",
       "        text-align: right;\n",
       "    }\n",
       "</style>\n",
       "<table border=\"1\" class=\"dataframe\">\n",
       "  <thead>\n",
       "    <tr style=\"text-align: right;\">\n",
       "      <th></th>\n",
       "      <th>RegionName</th>\n",
       "      <th>AreaCode</th>\n",
       "      <th>AveragePrice</th>\n",
       "      <th>Index</th>\n",
       "      <th>%Change_AvgPrice_1month</th>\n",
       "      <th>%Change_AvgPrice_12months</th>\n",
       "      <th>NewPrice</th>\n",
       "      <th>NewSalesVolume</th>\n",
       "      <th>OldPrice</th>\n",
       "      <th>OldSalesVolume</th>\n",
       "    </tr>\n",
       "  </thead>\n",
       "  <tbody>\n",
       "    <tr>\n",
       "      <th>0</th>\n",
       "      <td>Aberdeenshire</td>\n",
       "      <td>S12000034</td>\n",
       "      <td>81693.66964</td>\n",
       "      <td>40.864214</td>\n",
       "      <td>NaN</td>\n",
       "      <td>NaN</td>\n",
       "      <td>88436.13953</td>\n",
       "      <td>103.0</td>\n",
       "      <td>81043.95084</td>\n",
       "      <td>285.0</td>\n",
       "    </tr>\n",
       "    <tr>\n",
       "      <th>1</th>\n",
       "      <td>Aberdeenshire</td>\n",
       "      <td>S12000034</td>\n",
       "      <td>81678.76231</td>\n",
       "      <td>40.856757</td>\n",
       "      <td>-0.018248</td>\n",
       "      <td>NaN</td>\n",
       "      <td>88606.44649</td>\n",
       "      <td>107.0</td>\n",
       "      <td>80965.29542</td>\n",
       "      <td>219.0</td>\n",
       "    </tr>\n",
       "    <tr>\n",
       "      <th>2</th>\n",
       "      <td>Aberdeenshire</td>\n",
       "      <td>S12000034</td>\n",
       "      <td>83525.09702</td>\n",
       "      <td>41.780317</td>\n",
       "      <td>2.260483</td>\n",
       "      <td>NaN</td>\n",
       "      <td>90296.91375</td>\n",
       "      <td>140.0</td>\n",
       "      <td>82903.23948</td>\n",
       "      <td>313.0</td>\n",
       "    </tr>\n",
       "    <tr>\n",
       "      <th>3</th>\n",
       "      <td>Aberdeenshire</td>\n",
       "      <td>S12000034</td>\n",
       "      <td>84333.67900</td>\n",
       "      <td>42.184780</td>\n",
       "      <td>0.968071</td>\n",
       "      <td>NaN</td>\n",
       "      <td>90319.87844</td>\n",
       "      <td>180.0</td>\n",
       "      <td>84003.99161</td>\n",
       "      <td>391.0</td>\n",
       "    </tr>\n",
       "    <tr>\n",
       "      <th>4</th>\n",
       "      <td>Aberdeenshire</td>\n",
       "      <td>S12000034</td>\n",
       "      <td>86379.95396</td>\n",
       "      <td>43.208353</td>\n",
       "      <td>2.426403</td>\n",
       "      <td>NaN</td>\n",
       "      <td>91989.17763</td>\n",
       "      <td>167.0</td>\n",
       "      <td>86222.73484</td>\n",
       "      <td>335.0</td>\n",
       "    </tr>\n",
       "  </tbody>\n",
       "</table>\n",
       "</div>"
      ],
      "text/plain": [
       "      RegionName   AreaCode  AveragePrice      Index  %Change_AvgPrice_1month  \\\n",
       "0  Aberdeenshire  S12000034   81693.66964  40.864214                      NaN   \n",
       "1  Aberdeenshire  S12000034   81678.76231  40.856757                -0.018248   \n",
       "2  Aberdeenshire  S12000034   83525.09702  41.780317                 2.260483   \n",
       "3  Aberdeenshire  S12000034   84333.67900  42.184780                 0.968071   \n",
       "4  Aberdeenshire  S12000034   86379.95396  43.208353                 2.426403   \n",
       "\n",
       "   %Change_AvgPrice_12months     NewPrice  NewSalesVolume     OldPrice  \\\n",
       "0                        NaN  88436.13953           103.0  81043.95084   \n",
       "1                        NaN  88606.44649           107.0  80965.29542   \n",
       "2                        NaN  90296.91375           140.0  82903.23948   \n",
       "3                        NaN  90319.87844           180.0  84003.99161   \n",
       "4                        NaN  91989.17763           167.0  86222.73484   \n",
       "\n",
       "   OldSalesVolume  \n",
       "0           285.0  \n",
       "1           219.0  \n",
       "2           313.0  \n",
       "3           391.0  \n",
       "4           335.0  "
      ]
     },
     "execution_count": 16,
     "metadata": {},
     "output_type": "execute_result"
    }
   ],
   "source": [
    "# Let's have a look..\n",
    "\n",
    "uk_hpi.head()"
   ]
  },
  {
   "cell_type": "code",
   "execution_count": 18,
   "id": "e6eff95f",
   "metadata": {},
   "outputs": [],
   "source": [
    "# For those variables that we will use, I will impute missing values with median\n",
    "\n",
    "uk_hpi['%Change_AvgPrice_1month'].fillna(uk_hpi['%Change_AvgPrice_1month'].median(), inplace=True)\n",
    "uk_hpi['%Change_AvgPrice_12months'].fillna(uk_hpi['%Change_AvgPrice_12months'].median(), inplace=True)\n",
    "uk_hpi['NewPrice'].fillna(uk_hpi['NewPrice'].median(), inplace=True)\n",
    "uk_hpi['NewSalesVolume'].fillna(uk_hpi['NewSalesVolume'].median(), inplace=True)\n",
    "uk_hpi['OldPrice'].fillna(uk_hpi['OldPrice'].median(), inplace=True)\n",
    "uk_hpi['OldSalesVolume'].fillna(uk_hpi['OldSalesVolume'].median(), inplace=True)"
   ]
  },
  {
   "cell_type": "code",
   "execution_count": 19,
   "id": "5c84d747",
   "metadata": {},
   "outputs": [
    {
     "data": {
      "text/plain": [
       "RegionName                   0\n",
       "AreaCode                     0\n",
       "AveragePrice                 0\n",
       "Index                        0\n",
       "%Change_AvgPrice_1month      0\n",
       "%Change_AvgPrice_12months    0\n",
       "NewPrice                     0\n",
       "NewSalesVolume               0\n",
       "OldPrice                     0\n",
       "OldSalesVolume               0\n",
       "dtype: int64"
      ]
     },
     "execution_count": 19,
     "metadata": {},
     "output_type": "execute_result"
    }
   ],
   "source": [
    "# Last check for NaN\n",
    "\n",
    "uk_hpi.isnull().sum()"
   ]
  },
  {
   "cell_type": "markdown",
   "id": "08c78058",
   "metadata": {},
   "source": [
    "### 4. Data cleaning"
   ]
  },
  {
   "cell_type": "code",
   "execution_count": 20,
   "id": "68d9072e",
   "metadata": {},
   "outputs": [],
   "source": [
    "# To look out for duplicates\n",
    "\n",
    "dups = uk_hpi.duplicated()"
   ]
  },
  {
   "cell_type": "code",
   "execution_count": 21,
   "id": "6f0e1684",
   "metadata": {},
   "outputs": [
    {
     "data": {
      "text/plain": [
       "(134829,)"
      ]
     },
     "execution_count": 21,
     "metadata": {},
     "output_type": "execute_result"
    }
   ],
   "source": [
    "dups.shape "
   ]
  },
  {
   "cell_type": "markdown",
   "id": "a0874eee",
   "metadata": {},
   "source": [
    "There is no duplicates in our subset"
   ]
  },
  {
   "cell_type": "code",
   "execution_count": 22,
   "id": "407d3c32",
   "metadata": {},
   "outputs": [
    {
     "data": {
      "text/plain": [
       "<AxesSubplot:xlabel='AveragePrice', ylabel='Count'>"
      ]
     },
     "execution_count": 22,
     "metadata": {},
     "output_type": "execute_result"
    },
    {
     "data": {
      "image/png": "[encoded data removed]",
      "text/plain": [
       "<Figure size 432x288 with 1 Axes>"
      ]
     },
     "metadata": {
      "needs_background": "light"
     },
     "output_type": "display_data"
    }
   ],
   "source": [
    "# To check if we have extreme values\n",
    "\n",
    "sns.histplot(uk_hpi ['AveragePrice'], bins=20, kde = True) # shows extreme values for 'AveragePrice'"
   ]
  },
  {
   "cell_type": "code",
   "execution_count": 23,
   "id": "46404535",
   "metadata": {},
   "outputs": [
    {
     "data": {
      "text/plain": [
       "<AxesSubplot:xlabel='OldPrice', ylabel='Count'>"
      ]
     },
     "execution_count": 23,
     "metadata": {},
     "output_type": "execute_result"
    },
    {
     "data": {
      "image/png": "[encoded data removed]",
      "text/plain": [
       "<Figure size 432x288 with 1 Axes>"
      ]
     },
     "metadata": {
      "needs_background": "light"
     },
     "output_type": "display_data"
    }
   ],
   "source": [
    "sns.histplot(uk_hpi ['OldPrice'], bins=20, kde = True) # shows extreme values for 'OldPrice'"
   ]
  },
  {
   "cell_type": "code",
   "execution_count": 24,
   "id": "3e3d5fe3",
   "metadata": {},
   "outputs": [
    {
     "data": {
      "text/plain": [
       "<AxesSubplot:xlabel='Index', ylabel='Count'>"
      ]
     },
     "execution_count": 24,
     "metadata": {},
     "output_type": "execute_result"
    },
    {
     "data": {
      "image/png": "[encoded data removed]",
      "text/plain": [
       "<Figure size 432x288 with 1 Axes>"
      ]
     },
     "metadata": {
      "needs_background": "light"
     },
     "output_type": "display_data"
    }
   ],
   "source": [
    "sns.histplot(uk_hpi ['Index'], bins=20, kde = True) # shows extreme values for 'Index'"
   ]
  },
  {
   "cell_type": "code",
   "execution_count": 35,
   "id": "b61af261",
   "metadata": {},
   "outputs": [
    {
     "data": {
      "text/plain": [
       "<AxesSubplot:xlabel='%Change_AvgPrice_12months', ylabel='Count'>"
      ]
     },
     "execution_count": 35,
     "metadata": {},
     "output_type": "execute_result"
    },
    {
     "data": {
      "image/png": "[encoded data removed]",
      "text/plain": [
       "<Figure size 432x288 with 1 Axes>"
      ]
     },
     "metadata": {
      "needs_background": "light"
     },
     "output_type": "display_data"
    }
   ],
   "source": [
    "sns.histplot(uk_hpi ['%Change_AvgPrice_12months'], bins=20, kde = True) # shows extreme values for '%Change_AvgPrice_12months"
   ]
  },
  {
   "cell_type": "code",
   "execution_count": 32,
   "id": "abfd6156",
   "metadata": {},
   "outputs": [
    {
     "data": {
      "text/html": [
       "<div>\n",
       "<style scoped>\n",
       "    .dataframe tbody tr th:only-of-type {\n",
       "        vertical-align: middle;\n",
       "    }\n",
       "\n",
       "    .dataframe tbody tr th {\n",
       "        vertical-align: top;\n",
       "    }\n",
       "\n",
       "    .dataframe thead th {\n",
       "        text-align: right;\n",
       "    }\n",
       "</style>\n",
       "<table border=\"1\" class=\"dataframe\">\n",
       "  <thead>\n",
       "    <tr style=\"text-align: right;\">\n",
       "      <th></th>\n",
       "      <th>AveragePrice</th>\n",
       "      <th>Index</th>\n",
       "      <th>%Change_AvgPrice_1month</th>\n",
       "      <th>%Change_AvgPrice_12months</th>\n",
       "      <th>NewPrice</th>\n",
       "      <th>NewSalesVolume</th>\n",
       "      <th>OldPrice</th>\n",
       "      <th>OldSalesVolume</th>\n",
       "    </tr>\n",
       "  </thead>\n",
       "  <tbody>\n",
       "    <tr>\n",
       "      <th>count</th>\n",
       "      <td>1.348290e+05</td>\n",
       "      <td>134829.000000</td>\n",
       "      <td>134829.000000</td>\n",
       "      <td>134829.000000</td>\n",
       "      <td>1.348290e+05</td>\n",
       "      <td>134829.000000</td>\n",
       "      <td>1.348290e+05</td>\n",
       "      <td>134829.000000</td>\n",
       "    </tr>\n",
       "    <tr>\n",
       "      <th>mean</th>\n",
       "      <td>1.659640e+05</td>\n",
       "      <td>80.321920</td>\n",
       "      <td>0.575324</td>\n",
       "      <td>6.538598</td>\n",
       "      <td>1.974968e+05</td>\n",
       "      <td>122.653643</td>\n",
       "      <td>1.664051e+05</td>\n",
       "      <td>1056.745211</td>\n",
       "    </tr>\n",
       "    <tr>\n",
       "      <th>std</th>\n",
       "      <td>1.116970e+05</td>\n",
       "      <td>34.467742</td>\n",
       "      <td>2.000222</td>\n",
       "      <td>8.813118</td>\n",
       "      <td>1.132863e+05</td>\n",
       "      <td>795.571678</td>\n",
       "      <td>1.079824e+05</td>\n",
       "      <td>6684.195759</td>\n",
       "    </tr>\n",
       "    <tr>\n",
       "      <th>min</th>\n",
       "      <td>2.712016e+03</td>\n",
       "      <td>1.096815</td>\n",
       "      <td>-30.297781</td>\n",
       "      <td>-35.786566</td>\n",
       "      <td>2.722990e+04</td>\n",
       "      <td>0.000000</td>\n",
       "      <td>2.278638e+04</td>\n",
       "      <td>2.000000</td>\n",
       "    </tr>\n",
       "    <tr>\n",
       "      <th>25%</th>\n",
       "      <td>9.309390e+04</td>\n",
       "      <td>46.254770</td>\n",
       "      <td>-0.429154</td>\n",
       "      <td>1.619492</td>\n",
       "      <td>1.249587e+05</td>\n",
       "      <td>10.000000</td>\n",
       "      <td>9.973920e+04</td>\n",
       "      <td>128.000000</td>\n",
       "    </tr>\n",
       "    <tr>\n",
       "      <th>50%</th>\n",
       "      <td>1.459236e+05</td>\n",
       "      <td>88.442346</td>\n",
       "      <td>0.530798</td>\n",
       "      <td>5.535979</td>\n",
       "      <td>1.822456e+05</td>\n",
       "      <td>20.000000</td>\n",
       "      <td>1.466919e+05</td>\n",
       "      <td>192.000000</td>\n",
       "    </tr>\n",
       "    <tr>\n",
       "      <th>75%</th>\n",
       "      <td>2.081496e+05</td>\n",
       "      <td>105.411653</td>\n",
       "      <td>1.521648</td>\n",
       "      <td>10.537074</td>\n",
       "      <td>2.425342e+05</td>\n",
       "      <td>42.000000</td>\n",
       "      <td>2.037794e+05</td>\n",
       "      <td>324.000000</td>\n",
       "    </tr>\n",
       "    <tr>\n",
       "      <th>max</th>\n",
       "      <td>1.463378e+06</td>\n",
       "      <td>221.485238</td>\n",
       "      <td>35.286646</td>\n",
       "      <td>98.437940</td>\n",
       "      <td>1.324994e+06</td>\n",
       "      <td>21097.000000</td>\n",
       "      <td>1.479584e+06</td>\n",
       "      <td>148132.000000</td>\n",
       "    </tr>\n",
       "  </tbody>\n",
       "</table>\n",
       "</div>"
      ],
      "text/plain": [
       "       AveragePrice          Index  %Change_AvgPrice_1month  \\\n",
       "count  1.348290e+05  134829.000000            134829.000000   \n",
       "mean   1.659640e+05      80.321920                 0.575324   \n",
       "std    1.116970e+05      34.467742                 2.000222   \n",
       "min    2.712016e+03       1.096815               -30.297781   \n",
       "25%    9.309390e+04      46.254770                -0.429154   \n",
       "50%    1.459236e+05      88.442346                 0.530798   \n",
       "75%    2.081496e+05     105.411653                 1.521648   \n",
       "max    1.463378e+06     221.485238                35.286646   \n",
       "\n",
       "       %Change_AvgPrice_12months      NewPrice  NewSalesVolume      OldPrice  \\\n",
       "count              134829.000000  1.348290e+05   134829.000000  1.348290e+05   \n",
       "mean                    6.538598  1.974968e+05      122.653643  1.664051e+05   \n",
       "std                     8.813118  1.132863e+05      795.571678  1.079824e+05   \n",
       "min                   -35.786566  2.722990e+04        0.000000  2.278638e+04   \n",
       "25%                     1.619492  1.249587e+05       10.000000  9.973920e+04   \n",
       "50%                     5.535979  1.822456e+05       20.000000  1.466919e+05   \n",
       "75%                    10.537074  2.425342e+05       42.000000  2.037794e+05   \n",
       "max                    98.437940  1.324994e+06    21097.000000  1.479584e+06   \n",
       "\n",
       "       OldSalesVolume  \n",
       "count   134829.000000  \n",
       "mean      1056.745211  \n",
       "std       6684.195759  \n",
       "min          2.000000  \n",
       "25%        128.000000  \n",
       "50%        192.000000  \n",
       "75%        324.000000  \n",
       "max     148132.000000  "
      ]
     },
     "execution_count": 32,
     "metadata": {},
     "output_type": "execute_result"
    }
   ],
   "source": [
    "# To check the descriptive statistics\n",
    "\n",
    "uk_hpi.describe()"
   ]
  },
  {
   "cell_type": "markdown",
   "id": "c0909791",
   "metadata": {},
   "source": [
    "All of the statistics values make sense apart from the max in both sales volumes. It is difficult to sale 21097 or 148132 houses in one month in one area, specially seeing where the 75th percentil falls. However I cannot be sure since we have data for the whole of the regions, so lets check how many of those figures are in the data."
   ]
  },
  {
   "cell_type": "code",
   "execution_count": 33,
   "id": "c9c9162e",
   "metadata": {},
   "outputs": [
    {
     "data": {
      "text/html": [
       "<div>\n",
       "<style scoped>\n",
       "    .dataframe tbody tr th:only-of-type {\n",
       "        vertical-align: middle;\n",
       "    }\n",
       "\n",
       "    .dataframe tbody tr th {\n",
       "        vertical-align: top;\n",
       "    }\n",
       "\n",
       "    .dataframe thead th {\n",
       "        text-align: right;\n",
       "    }\n",
       "</style>\n",
       "<table border=\"1\" class=\"dataframe\">\n",
       "  <thead>\n",
       "    <tr style=\"text-align: right;\">\n",
       "      <th></th>\n",
       "      <th>RegionName</th>\n",
       "      <th>AreaCode</th>\n",
       "      <th>AveragePrice</th>\n",
       "      <th>Index</th>\n",
       "      <th>%Change_AvgPrice_1month</th>\n",
       "      <th>%Change_AvgPrice_12months</th>\n",
       "      <th>NewPrice</th>\n",
       "      <th>NewSalesVolume</th>\n",
       "      <th>OldPrice</th>\n",
       "      <th>OldSalesVolume</th>\n",
       "    </tr>\n",
       "  </thead>\n",
       "  <tbody>\n",
       "    <tr>\n",
       "      <th>47492</th>\n",
       "      <td>Great Britain</td>\n",
       "      <td>K03000001</td>\n",
       "      <td>169122.5010</td>\n",
       "      <td>87.629278</td>\n",
       "      <td>0.981360</td>\n",
       "      <td>6.877731</td>\n",
       "      <td>208849.2741</td>\n",
       "      <td>20398.0</td>\n",
       "      <td>166280.9209</td>\n",
       "      <td>122249.0</td>\n",
       "    </tr>\n",
       "    <tr>\n",
       "      <th>119315</th>\n",
       "      <td>United Kingdom</td>\n",
       "      <td>K02000001</td>\n",
       "      <td>168184.1320</td>\n",
       "      <td>88.209262</td>\n",
       "      <td>0.947365</td>\n",
       "      <td>7.282829</td>\n",
       "      <td>205571.5404</td>\n",
       "      <td>21097.0</td>\n",
       "      <td>165384.6360</td>\n",
       "      <td>125156.0</td>\n",
       "    </tr>\n",
       "    <tr>\n",
       "      <th>119321</th>\n",
       "      <td>United Kingdom</td>\n",
       "      <td>K02000001</td>\n",
       "      <td>176819.0361</td>\n",
       "      <td>92.738099</td>\n",
       "      <td>1.245176</td>\n",
       "      <td>10.367749</td>\n",
       "      <td>214433.6002</td>\n",
       "      <td>20413.0</td>\n",
       "      <td>174039.1626</td>\n",
       "      <td>121587.0</td>\n",
       "    </tr>\n",
       "  </tbody>\n",
       "</table>\n",
       "</div>"
      ],
      "text/plain": [
       "            RegionName   AreaCode  AveragePrice      Index  \\\n",
       "47492    Great Britain  K03000001   169122.5010  87.629278   \n",
       "119315  United Kingdom  K02000001   168184.1320  88.209262   \n",
       "119321  United Kingdom  K02000001   176819.0361  92.738099   \n",
       "\n",
       "        %Change_AvgPrice_1month  %Change_AvgPrice_12months     NewPrice  \\\n",
       "47492                  0.981360                   6.877731  208849.2741   \n",
       "119315                 0.947365                   7.282829  205571.5404   \n",
       "119321                 1.245176                  10.367749  214433.6002   \n",
       "\n",
       "        NewSalesVolume     OldPrice  OldSalesVolume  \n",
       "47492          20398.0  166280.9209        122249.0  \n",
       "119315         21097.0  165384.6360        125156.0  \n",
       "119321         20413.0  174039.1626        121587.0  "
      ]
     },
     "execution_count": 33,
     "metadata": {},
     "output_type": "execute_result"
    }
   ],
   "source": [
    "# To check how many extreme values\n",
    "\n",
    "uk_hpi[uk_hpi['NewSalesVolume'] > 20000]"
   ]
  },
  {
   "cell_type": "code",
   "execution_count": 34,
   "id": "5c85c72b",
   "metadata": {},
   "outputs": [
    {
     "data": {
      "text/html": [
       "<div>\n",
       "<style scoped>\n",
       "    .dataframe tbody tr th:only-of-type {\n",
       "        vertical-align: middle;\n",
       "    }\n",
       "\n",
       "    .dataframe tbody tr th {\n",
       "        vertical-align: top;\n",
       "    }\n",
       "\n",
       "    .dataframe thead th {\n",
       "        text-align: right;\n",
       "    }\n",
       "</style>\n",
       "<table border=\"1\" class=\"dataframe\">\n",
       "  <thead>\n",
       "    <tr style=\"text-align: right;\">\n",
       "      <th></th>\n",
       "      <th>RegionName</th>\n",
       "      <th>AreaCode</th>\n",
       "      <th>AveragePrice</th>\n",
       "      <th>Index</th>\n",
       "      <th>%Change_AvgPrice_1month</th>\n",
       "      <th>%Change_AvgPrice_12months</th>\n",
       "      <th>NewPrice</th>\n",
       "      <th>NewSalesVolume</th>\n",
       "      <th>OldPrice</th>\n",
       "      <th>OldSalesVolume</th>\n",
       "    </tr>\n",
       "  </thead>\n",
       "  <tbody>\n",
       "    <tr>\n",
       "      <th>40671</th>\n",
       "      <td>England</td>\n",
       "      <td>E92000001</td>\n",
       "      <td>53202.77128</td>\n",
       "      <td>26.226925</td>\n",
       "      <td>0.530798</td>\n",
       "      <td>1.387601</td>\n",
       "      <td>64657.42486</td>\n",
       "      <td>5308.0</td>\n",
       "      <td>52440.59891</td>\n",
       "      <td>42331.0</td>\n",
       "    </tr>\n",
       "    <tr>\n",
       "      <th>40672</th>\n",
       "      <td>England</td>\n",
       "      <td>E92000001</td>\n",
       "      <td>53096.15490</td>\n",
       "      <td>26.174367</td>\n",
       "      <td>-0.200396</td>\n",
       "      <td>1.184424</td>\n",
       "      <td>65024.06107</td>\n",
       "      <td>6295.0</td>\n",
       "      <td>52272.48177</td>\n",
       "      <td>41585.0</td>\n",
       "    </tr>\n",
       "    <tr>\n",
       "      <th>40673</th>\n",
       "      <td>England</td>\n",
       "      <td>E92000001</td>\n",
       "      <td>53201.28430</td>\n",
       "      <td>26.226192</td>\n",
       "      <td>0.197998</td>\n",
       "      <td>1.384768</td>\n",
       "      <td>65320.41508</td>\n",
       "      <td>9447.0</td>\n",
       "      <td>52354.81645</td>\n",
       "      <td>57578.0</td>\n",
       "    </tr>\n",
       "    <tr>\n",
       "      <th>40674</th>\n",
       "      <td>England</td>\n",
       "      <td>E92000001</td>\n",
       "      <td>53590.85480</td>\n",
       "      <td>26.418235</td>\n",
       "      <td>0.732258</td>\n",
       "      <td>1.027949</td>\n",
       "      <td>64888.98479</td>\n",
       "      <td>7545.0</td>\n",
       "      <td>52853.81860</td>\n",
       "      <td>49380.0</td>\n",
       "    </tr>\n",
       "    <tr>\n",
       "      <th>40675</th>\n",
       "      <td>England</td>\n",
       "      <td>E92000001</td>\n",
       "      <td>53678.24041</td>\n",
       "      <td>26.461313</td>\n",
       "      <td>0.163061</td>\n",
       "      <td>1.192686</td>\n",
       "      <td>65259.63874</td>\n",
       "      <td>8885.0</td>\n",
       "      <td>52906.14731</td>\n",
       "      <td>55307.0</td>\n",
       "    </tr>\n",
       "    <tr>\n",
       "      <th>...</th>\n",
       "      <td>...</td>\n",
       "      <td>...</td>\n",
       "      <td>...</td>\n",
       "      <td>...</td>\n",
       "      <td>...</td>\n",
       "      <td>...</td>\n",
       "      <td>...</td>\n",
       "      <td>...</td>\n",
       "      <td>...</td>\n",
       "      <td>...</td>\n",
       "    </tr>\n",
       "    <tr>\n",
       "      <th>119491</th>\n",
       "      <td>United Kingdom</td>\n",
       "      <td>K02000001</td>\n",
       "      <td>249970.89980</td>\n",
       "      <td>131.104805</td>\n",
       "      <td>0.033104</td>\n",
       "      <td>8.395985</td>\n",
       "      <td>309819.19610</td>\n",
       "      <td>4501.0</td>\n",
       "      <td>246079.87630</td>\n",
       "      <td>88163.0</td>\n",
       "    </tr>\n",
       "    <tr>\n",
       "      <th>119492</th>\n",
       "      <td>United Kingdom</td>\n",
       "      <td>K02000001</td>\n",
       "      <td>254061.62890</td>\n",
       "      <td>133.250312</td>\n",
       "      <td>1.636482</td>\n",
       "      <td>9.187499</td>\n",
       "      <td>320430.93340</td>\n",
       "      <td>6494.0</td>\n",
       "      <td>249568.90950</td>\n",
       "      <td>122910.0</td>\n",
       "    </tr>\n",
       "    <tr>\n",
       "      <th>119493</th>\n",
       "      <td>United Kingdom</td>\n",
       "      <td>K02000001</td>\n",
       "      <td>251636.01760</td>\n",
       "      <td>131.978126</td>\n",
       "      <td>-0.954733</td>\n",
       "      <td>9.256021</td>\n",
       "      <td>335013.75610</td>\n",
       "      <td>2990.0</td>\n",
       "      <td>245540.72690</td>\n",
       "      <td>77195.0</td>\n",
       "    </tr>\n",
       "    <tr>\n",
       "      <th>119494</th>\n",
       "      <td>United Kingdom</td>\n",
       "      <td>K02000001</td>\n",
       "      <td>253297.97830</td>\n",
       "      <td>132.849792</td>\n",
       "      <td>0.660462</td>\n",
       "      <td>9.412330</td>\n",
       "      <td>324731.85660</td>\n",
       "      <td>2594.0</td>\n",
       "      <td>248317.00680</td>\n",
       "      <td>68274.0</td>\n",
       "    </tr>\n",
       "    <tr>\n",
       "      <th>119495</th>\n",
       "      <td>United Kingdom</td>\n",
       "      <td>K02000001</td>\n",
       "      <td>266321.37510</td>\n",
       "      <td>139.680307</td>\n",
       "      <td>5.141532</td>\n",
       "      <td>13.471535</td>\n",
       "      <td>325248.01820</td>\n",
       "      <td>20.0</td>\n",
       "      <td>262653.65270</td>\n",
       "      <td>148132.0</td>\n",
       "    </tr>\n",
       "  </tbody>\n",
       "</table>\n",
       "<p>1065 rows × 10 columns</p>\n",
       "</div>"
      ],
      "text/plain": [
       "            RegionName   AreaCode  AveragePrice       Index  \\\n",
       "40671          England  E92000001   53202.77128   26.226925   \n",
       "40672          England  E92000001   53096.15490   26.174367   \n",
       "40673          England  E92000001   53201.28430   26.226192   \n",
       "40674          England  E92000001   53590.85480   26.418235   \n",
       "40675          England  E92000001   53678.24041   26.461313   \n",
       "...                ...        ...           ...         ...   \n",
       "119491  United Kingdom  K02000001  249970.89980  131.104805   \n",
       "119492  United Kingdom  K02000001  254061.62890  133.250312   \n",
       "119493  United Kingdom  K02000001  251636.01760  131.978126   \n",
       "119494  United Kingdom  K02000001  253297.97830  132.849792   \n",
       "119495  United Kingdom  K02000001  266321.37510  139.680307   \n",
       "\n",
       "        %Change_AvgPrice_1month  %Change_AvgPrice_12months      NewPrice  \\\n",
       "40671                  0.530798                   1.387601   64657.42486   \n",
       "40672                 -0.200396                   1.184424   65024.06107   \n",
       "40673                  0.197998                   1.384768   65320.41508   \n",
       "40674                  0.732258                   1.027949   64888.98479   \n",
       "40675                  0.163061                   1.192686   65259.63874   \n",
       "...                         ...                        ...           ...   \n",
       "119491                 0.033104                   8.395985  309819.19610   \n",
       "119492                 1.636482                   9.187499  320430.93340   \n",
       "119493                -0.954733                   9.256021  335013.75610   \n",
       "119494                 0.660462                   9.412330  324731.85660   \n",
       "119495                 5.141532                  13.471535  325248.01820   \n",
       "\n",
       "        NewSalesVolume      OldPrice  OldSalesVolume  \n",
       "40671           5308.0   52440.59891         42331.0  \n",
       "40672           6295.0   52272.48177         41585.0  \n",
       "40673           9447.0   52354.81645         57578.0  \n",
       "40674           7545.0   52853.81860         49380.0  \n",
       "40675           8885.0   52906.14731         55307.0  \n",
       "...                ...           ...             ...  \n",
       "119491          4501.0  246079.87630         88163.0  \n",
       "119492          6494.0  249568.90950        122910.0  \n",
       "119493          2990.0  245540.72690         77195.0  \n",
       "119494          2594.0  248317.00680         68274.0  \n",
       "119495            20.0  262653.65270        148132.0  \n",
       "\n",
       "[1065 rows x 10 columns]"
      ]
     },
     "execution_count": 34,
     "metadata": {},
     "output_type": "execute_result"
    }
   ],
   "source": [
    "uk_hpi[uk_hpi['OldSalesVolume'] > 20000]"
   ]
  },
  {
   "cell_type": "markdown",
   "id": "303e5573",
   "metadata": {},
   "source": [
    "Seeing this max values, it seems very possible that they are right. They are details for the whole country, and there could have been months were the sales were that big in those areas. For that reason, I won't delete any rows."
   ]
  },
  {
   "cell_type": "markdown",
   "id": "9cf1a84c",
   "metadata": {},
   "source": [
    "### 5. Choropleth map"
   ]
  },
  {
   "cell_type": "code",
   "execution_count": 36,
   "id": "fe1e7b29",
   "metadata": {},
   "outputs": [
    {
     "data": {
      "text/html": [
       "<div>\n",
       "<style scoped>\n",
       "    .dataframe tbody tr th:only-of-type {\n",
       "        vertical-align: middle;\n",
       "    }\n",
       "\n",
       "    .dataframe tbody tr th {\n",
       "        vertical-align: top;\n",
       "    }\n",
       "\n",
       "    .dataframe thead th {\n",
       "        text-align: right;\n",
       "    }\n",
       "</style>\n",
       "<table border=\"1\" class=\"dataframe\">\n",
       "  <thead>\n",
       "    <tr style=\"text-align: right;\">\n",
       "      <th></th>\n",
       "      <th>AreaCode</th>\n",
       "      <th>NewSalesVolume</th>\n",
       "    </tr>\n",
       "  </thead>\n",
       "  <tbody>\n",
       "    <tr>\n",
       "      <th>0</th>\n",
       "      <td>S12000034</td>\n",
       "      <td>103.0</td>\n",
       "    </tr>\n",
       "    <tr>\n",
       "      <th>1</th>\n",
       "      <td>S12000034</td>\n",
       "      <td>107.0</td>\n",
       "    </tr>\n",
       "    <tr>\n",
       "      <th>2</th>\n",
       "      <td>S12000034</td>\n",
       "      <td>140.0</td>\n",
       "    </tr>\n",
       "    <tr>\n",
       "      <th>3</th>\n",
       "      <td>S12000034</td>\n",
       "      <td>180.0</td>\n",
       "    </tr>\n",
       "    <tr>\n",
       "      <th>4</th>\n",
       "      <td>S12000034</td>\n",
       "      <td>167.0</td>\n",
       "    </tr>\n",
       "  </tbody>\n",
       "</table>\n",
       "</div>"
      ],
      "text/plain": [
       "    AreaCode  NewSalesVolume\n",
       "0  S12000034           103.0\n",
       "1  S12000034           107.0\n",
       "2  S12000034           140.0\n",
       "3  S12000034           180.0\n",
       "4  S12000034           167.0"
      ]
     },
     "execution_count": 36,
     "metadata": {},
     "output_type": "execute_result"
    }
   ],
   "source": [
    "# Create a data frame with just the variables we want plotted\n",
    "\n",
    "data_to_plot = uk_hpi[['AreaCode','NewSalesVolume']]\n",
    "data_to_plot.head()"
   ]
  },
  {
   "cell_type": "code",
   "execution_count": 62,
   "id": "f835b437",
   "metadata": {},
   "outputs": [
    {
     "ename": "AttributeError",
     "evalue": "'NoneType' object has no attribute 'get'",
     "output_type": "error",
     "traceback": [
      "\u001b[1;31m---------------------------------------------------------------------------\u001b[0m",
      "\u001b[1;31mAttributeError\u001b[0m                            Traceback (most recent call last)",
      "\u001b[1;32m<ipython-input-62-3113acd7f699>\u001b[0m in \u001b[0;36m<module>\u001b[1;34m\u001b[0m\n\u001b[0;32m      3\u001b[0m \u001b[1;33m\u001b[0m\u001b[0m\n\u001b[0;32m      4\u001b[0m \u001b[1;31m# Choropleth maps bind Pandas Data Frames and json geometries.This allows us to quickly visualize data combinations\u001b[0m\u001b[1;33m\u001b[0m\u001b[1;33m\u001b[0m\u001b[1;33m\u001b[0m\u001b[0m\n\u001b[1;32m----> 5\u001b[1;33m folium.Choropleth(\n\u001b[0m\u001b[0;32m      6\u001b[0m     \u001b[0mgeo_data\u001b[0m \u001b[1;33m=\u001b[0m \u001b[0muk_geo\u001b[0m\u001b[1;33m,\u001b[0m\u001b[1;33m\u001b[0m\u001b[1;33m\u001b[0m\u001b[0m\n\u001b[0;32m      7\u001b[0m     \u001b[0mdata\u001b[0m \u001b[1;33m=\u001b[0m \u001b[0mdata_to_plot\u001b[0m\u001b[1;33m,\u001b[0m\u001b[1;33m\u001b[0m\u001b[1;33m\u001b[0m\u001b[0m\n",
      "\u001b[1;32m~\\OneDrive\\Documentos\\Anaconda3\\lib\\site-packages\\folium\\features.py\u001b[0m in \u001b[0;36m__init__\u001b[1;34m(self, geo_data, data, columns, key_on, bins, fill_color, nan_fill_color, fill_opacity, nan_fill_opacity, line_color, line_weight, line_opacity, name, legend_name, overlay, control, show, topojson, smooth_factor, highlight, **kwargs)\u001b[0m\n\u001b[0;32m   1287\u001b[0m                 smooth_factor=smooth_factor)\n\u001b[0;32m   1288\u001b[0m         \u001b[1;32melse\u001b[0m\u001b[1;33m:\u001b[0m\u001b[1;33m\u001b[0m\u001b[1;33m\u001b[0m\u001b[0m\n\u001b[1;32m-> 1289\u001b[1;33m             self.geojson = GeoJson(\n\u001b[0m\u001b[0;32m   1290\u001b[0m                 \u001b[0mgeo_data\u001b[0m\u001b[1;33m,\u001b[0m\u001b[1;33m\u001b[0m\u001b[1;33m\u001b[0m\u001b[0m\n\u001b[0;32m   1291\u001b[0m                 \u001b[0mstyle_function\u001b[0m\u001b[1;33m=\u001b[0m\u001b[0mstyle_function\u001b[0m\u001b[1;33m,\u001b[0m\u001b[1;33m\u001b[0m\u001b[1;33m\u001b[0m\u001b[0m\n",
      "\u001b[1;32m~\\OneDrive\\Documentos\\Anaconda3\\lib\\site-packages\\folium\\features.py\u001b[0m in \u001b[0;36m__init__\u001b[1;34m(self, data, style_function, highlight_function, name, overlay, control, show, smooth_factor, tooltip, embed, popup, zoom_on_click, marker)\u001b[0m\n\u001b[0;32m    502\u001b[0m             \u001b[0mself\u001b[0m\u001b[1;33m.\u001b[0m\u001b[0mconvert_to_feature_collection\u001b[0m\u001b[1;33m(\u001b[0m\u001b[1;33m)\u001b[0m\u001b[1;33m\u001b[0m\u001b[1;33m\u001b[0m\u001b[0m\n\u001b[0;32m    503\u001b[0m             \u001b[1;32mif\u001b[0m \u001b[0mself\u001b[0m\u001b[1;33m.\u001b[0m\u001b[0mstyle\u001b[0m\u001b[1;33m:\u001b[0m\u001b[1;33m\u001b[0m\u001b[1;33m\u001b[0m\u001b[0m\n\u001b[1;32m--> 504\u001b[1;33m                 \u001b[0mself\u001b[0m\u001b[1;33m.\u001b[0m\u001b[0m_validate_function\u001b[0m\u001b[1;33m(\u001b[0m\u001b[0mstyle_function\u001b[0m\u001b[1;33m,\u001b[0m \u001b[1;34m'style_function'\u001b[0m\u001b[1;33m)\u001b[0m\u001b[1;33m\u001b[0m\u001b[1;33m\u001b[0m\u001b[0m\n\u001b[0m\u001b[0;32m    505\u001b[0m                 \u001b[0mself\u001b[0m\u001b[1;33m.\u001b[0m\u001b[0mstyle_function\u001b[0m \u001b[1;33m=\u001b[0m \u001b[0mstyle_function\u001b[0m\u001b[1;33m\u001b[0m\u001b[1;33m\u001b[0m\u001b[0m\n\u001b[0;32m    506\u001b[0m                 \u001b[0mself\u001b[0m\u001b[1;33m.\u001b[0m\u001b[0mstyle_map\u001b[0m \u001b[1;33m=\u001b[0m \u001b[1;33m{\u001b[0m\u001b[1;33m}\u001b[0m\u001b[1;33m\u001b[0m\u001b[1;33m\u001b[0m\u001b[0m\n",
      "\u001b[1;32m~\\OneDrive\\Documentos\\Anaconda3\\lib\\site-packages\\folium\\features.py\u001b[0m in \u001b[0;36m_validate_function\u001b[1;34m(self, func, name)\u001b[0m\n\u001b[0;32m    567\u001b[0m         \"\"\"\n\u001b[0;32m    568\u001b[0m         \u001b[0mtest_feature\u001b[0m \u001b[1;33m=\u001b[0m \u001b[0mself\u001b[0m\u001b[1;33m.\u001b[0m\u001b[0mdata\u001b[0m\u001b[1;33m[\u001b[0m\u001b[1;34m'features'\u001b[0m\u001b[1;33m]\u001b[0m\u001b[1;33m[\u001b[0m\u001b[1;36m0\u001b[0m\u001b[1;33m]\u001b[0m\u001b[1;33m\u001b[0m\u001b[1;33m\u001b[0m\u001b[0m\n\u001b[1;32m--> 569\u001b[1;33m         \u001b[1;32mif\u001b[0m \u001b[1;32mnot\u001b[0m \u001b[0mcallable\u001b[0m\u001b[1;33m(\u001b[0m\u001b[0mfunc\u001b[0m\u001b[1;33m)\u001b[0m \u001b[1;32mor\u001b[0m \u001b[1;32mnot\u001b[0m \u001b[0misinstance\u001b[0m\u001b[1;33m(\u001b[0m\u001b[0mfunc\u001b[0m\u001b[1;33m(\u001b[0m\u001b[0mtest_feature\u001b[0m\u001b[1;33m)\u001b[0m\u001b[1;33m,\u001b[0m \u001b[0mdict\u001b[0m\u001b[1;33m)\u001b[0m\u001b[1;33m:\u001b[0m\u001b[1;33m\u001b[0m\u001b[1;33m\u001b[0m\u001b[0m\n\u001b[0m\u001b[0;32m    570\u001b[0m             raise ValueError('{} should be a function that accepts items from '\n\u001b[0;32m    571\u001b[0m                              \u001b[1;34m'data[\\'features\\'] and returns a dictionary.'\u001b[0m\u001b[1;33m\u001b[0m\u001b[1;33m\u001b[0m\u001b[0m\n",
      "\u001b[1;32m~\\OneDrive\\Documentos\\Anaconda3\\lib\\site-packages\\folium\\features.py\u001b[0m in \u001b[0;36mstyle_function\u001b[1;34m(x)\u001b[0m\n\u001b[0;32m   1265\u001b[0m \u001b[1;33m\u001b[0m\u001b[0m\n\u001b[0;32m   1266\u001b[0m         \u001b[1;32mdef\u001b[0m \u001b[0mstyle_function\u001b[0m\u001b[1;33m(\u001b[0m\u001b[0mx\u001b[0m\u001b[1;33m)\u001b[0m\u001b[1;33m:\u001b[0m\u001b[1;33m\u001b[0m\u001b[1;33m\u001b[0m\u001b[0m\n\u001b[1;32m-> 1267\u001b[1;33m             \u001b[0mcolor\u001b[0m\u001b[1;33m,\u001b[0m \u001b[0mopacity\u001b[0m \u001b[1;33m=\u001b[0m \u001b[0mcolor_scale_fun\u001b[0m\u001b[1;33m(\u001b[0m\u001b[0mx\u001b[0m\u001b[1;33m)\u001b[0m\u001b[1;33m\u001b[0m\u001b[1;33m\u001b[0m\u001b[0m\n\u001b[0m\u001b[0;32m   1268\u001b[0m             return {\n\u001b[0;32m   1269\u001b[0m                 \u001b[1;34m'weight'\u001b[0m\u001b[1;33m:\u001b[0m \u001b[0mline_weight\u001b[0m\u001b[1;33m,\u001b[0m\u001b[1;33m\u001b[0m\u001b[1;33m\u001b[0m\u001b[0m\n",
      "\u001b[1;32m~\\OneDrive\\Documentos\\Anaconda3\\lib\\site-packages\\folium\\features.py\u001b[0m in \u001b[0;36mcolor_scale_fun\u001b[1;34m(x)\u001b[0m\n\u001b[0;32m   1246\u001b[0m \u001b[1;33m\u001b[0m\u001b[0m\n\u001b[0;32m   1247\u001b[0m             \u001b[1;32mdef\u001b[0m \u001b[0mcolor_scale_fun\u001b[0m\u001b[1;33m(\u001b[0m\u001b[0mx\u001b[0m\u001b[1;33m)\u001b[0m\u001b[1;33m:\u001b[0m\u001b[1;33m\u001b[0m\u001b[1;33m\u001b[0m\u001b[0m\n\u001b[1;32m-> 1248\u001b[1;33m                 \u001b[0mkey_of_x\u001b[0m \u001b[1;33m=\u001b[0m \u001b[0mget_by_key\u001b[0m\u001b[1;33m(\u001b[0m\u001b[0mx\u001b[0m\u001b[1;33m,\u001b[0m \u001b[0mkey_on\u001b[0m\u001b[1;33m)\u001b[0m\u001b[1;33m\u001b[0m\u001b[1;33m\u001b[0m\u001b[0m\n\u001b[0m\u001b[0;32m   1249\u001b[0m                 \u001b[1;32mif\u001b[0m \u001b[0mkey_of_x\u001b[0m \u001b[1;32mis\u001b[0m \u001b[1;32mNone\u001b[0m\u001b[1;33m:\u001b[0m\u001b[1;33m\u001b[0m\u001b[1;33m\u001b[0m\u001b[0m\n\u001b[0;32m   1250\u001b[0m                     \u001b[1;32mraise\u001b[0m \u001b[0mValueError\u001b[0m\u001b[1;33m(\u001b[0m\u001b[1;34m\"key_on `{!r}` not found in GeoJSON.\"\u001b[0m\u001b[1;33m.\u001b[0m\u001b[0mformat\u001b[0m\u001b[1;33m(\u001b[0m\u001b[0mkey_on\u001b[0m\u001b[1;33m)\u001b[0m\u001b[1;33m)\u001b[0m\u001b[1;33m\u001b[0m\u001b[1;33m\u001b[0m\u001b[0m\n",
      "\u001b[1;32m~\\OneDrive\\Documentos\\Anaconda3\\lib\\site-packages\\folium\\features.py\u001b[0m in \u001b[0;36mget_by_key\u001b[1;34m(obj, key)\u001b[0m\n\u001b[0;32m   1242\u001b[0m             \u001b[1;32mdef\u001b[0m \u001b[0mget_by_key\u001b[0m\u001b[1;33m(\u001b[0m\u001b[0mobj\u001b[0m\u001b[1;33m,\u001b[0m \u001b[0mkey\u001b[0m\u001b[1;33m)\u001b[0m\u001b[1;33m:\u001b[0m\u001b[1;33m\u001b[0m\u001b[1;33m\u001b[0m\u001b[0m\n\u001b[0;32m   1243\u001b[0m                 return (obj.get(key, None) if len(key.split('.')) <= 1 else\n\u001b[1;32m-> 1244\u001b[1;33m                         get_by_key(obj.get(key.split('.')[0], None),\n\u001b[0m\u001b[0;32m   1245\u001b[0m                                    '.'.join(key.split('.')[1:])))\n\u001b[0;32m   1246\u001b[0m \u001b[1;33m\u001b[0m\u001b[0m\n",
      "\u001b[1;32m~\\OneDrive\\Documentos\\Anaconda3\\lib\\site-packages\\folium\\features.py\u001b[0m in \u001b[0;36mget_by_key\u001b[1;34m(obj, key)\u001b[0m\n\u001b[0;32m   1242\u001b[0m             \u001b[1;32mdef\u001b[0m \u001b[0mget_by_key\u001b[0m\u001b[1;33m(\u001b[0m\u001b[0mobj\u001b[0m\u001b[1;33m,\u001b[0m \u001b[0mkey\u001b[0m\u001b[1;33m)\u001b[0m\u001b[1;33m:\u001b[0m\u001b[1;33m\u001b[0m\u001b[1;33m\u001b[0m\u001b[0m\n\u001b[0;32m   1243\u001b[0m                 return (obj.get(key, None) if len(key.split('.')) <= 1 else\n\u001b[1;32m-> 1244\u001b[1;33m                         get_by_key(obj.get(key.split('.')[0], None),\n\u001b[0m\u001b[0;32m   1245\u001b[0m                                    '.'.join(key.split('.')[1:])))\n\u001b[0;32m   1246\u001b[0m \u001b[1;33m\u001b[0m\u001b[0m\n",
      "\u001b[1;31mAttributeError\u001b[0m: 'NoneType' object has no attribute 'get'"
     ]
    }
   ],
   "source": [
    "# Setup a folium map at a high-level zoom\n",
    "map = folium.Map(location = [100, 0], zoom_start = 1.5)\n",
    "\n",
    "# Choropleth maps bind Pandas Data Frames and json geometries.This allows us to quickly visualize data combinations\n",
    "folium.Choropleth(\n",
    "    geo_data = uk_geo, \n",
    "    data = data_to_plot,\n",
    "    columns = ['AreaCode', 'NewSalesVolume'],\n",
    "    key_on = 'object.lad.geometry.id', # this part is very important - check your json file to see where the KEY is located\n",
    "    fill_color = 'YlOrBr', fill_opacity=0.6, line_opacity=0.1,\n",
    "    legend_name = \"rating\").add_to(map)\n",
    "folium.LayerControl().add_to(map)\n",
    "\n",
    "map"
   ]
  },
  {
   "cell_type": "code",
   "execution_count": 57,
   "id": "6d7b6fda",
   "metadata": {},
   "outputs": [
    {
     "data": {
      "text/html": [
       "<div>\n",
       "<style scoped>\n",
       "    .dataframe tbody tr th:only-of-type {\n",
       "        vertical-align: middle;\n",
       "    }\n",
       "\n",
       "    .dataframe tbody tr th {\n",
       "        vertical-align: top;\n",
       "    }\n",
       "\n",
       "    .dataframe thead th {\n",
       "        text-align: right;\n",
       "    }\n",
       "</style>\n",
       "<table border=\"1\" class=\"dataframe\">\n",
       "  <thead>\n",
       "    <tr style=\"text-align: right;\">\n",
       "      <th></th>\n",
       "      <th>RegionName</th>\n",
       "      <th>NewSalesVolume</th>\n",
       "    </tr>\n",
       "  </thead>\n",
       "  <tbody>\n",
       "    <tr>\n",
       "      <th>0</th>\n",
       "      <td>Aberdeenshire</td>\n",
       "      <td>103.0</td>\n",
       "    </tr>\n",
       "    <tr>\n",
       "      <th>1</th>\n",
       "      <td>Aberdeenshire</td>\n",
       "      <td>107.0</td>\n",
       "    </tr>\n",
       "    <tr>\n",
       "      <th>2</th>\n",
       "      <td>Aberdeenshire</td>\n",
       "      <td>140.0</td>\n",
       "    </tr>\n",
       "    <tr>\n",
       "      <th>3</th>\n",
       "      <td>Aberdeenshire</td>\n",
       "      <td>180.0</td>\n",
       "    </tr>\n",
       "    <tr>\n",
       "      <th>4</th>\n",
       "      <td>Aberdeenshire</td>\n",
       "      <td>167.0</td>\n",
       "    </tr>\n",
       "  </tbody>\n",
       "</table>\n",
       "</div>"
      ],
      "text/plain": [
       "      RegionName  NewSalesVolume\n",
       "0  Aberdeenshire           103.0\n",
       "1  Aberdeenshire           107.0\n",
       "2  Aberdeenshire           140.0\n",
       "3  Aberdeenshire           180.0\n",
       "4  Aberdeenshire           167.0"
      ]
     },
     "execution_count": 57,
     "metadata": {},
     "output_type": "execute_result"
    }
   ],
   "source": [
    "# Create a data frame with just the variables we want plotted\n",
    "\n",
    "data_to_plot2 = uk_hpi[['RegionName','NewSalesVolume']]\n",
    "data_to_plot2.head()"
   ]
  },
  {
   "cell_type": "code",
   "execution_count": 64,
   "id": "4ef26cbb",
   "metadata": {},
   "outputs": [
    {
     "ename": "AttributeError",
     "evalue": "'NoneType' object has no attribute 'get'",
     "output_type": "error",
     "traceback": [
      "\u001b[1;31m---------------------------------------------------------------------------\u001b[0m",
      "\u001b[1;31mAttributeError\u001b[0m                            Traceback (most recent call last)",
      "\u001b[1;32m<ipython-input-64-1c962c7ef3fc>\u001b[0m in \u001b[0;36m<module>\u001b[1;34m\u001b[0m\n\u001b[0;32m      3\u001b[0m \u001b[1;33m\u001b[0m\u001b[0m\n\u001b[0;32m      4\u001b[0m \u001b[1;31m# Choropleth maps bind Pandas Data Frames and json geometries.This allows us to quickly visualize data combinations\u001b[0m\u001b[1;33m\u001b[0m\u001b[1;33m\u001b[0m\u001b[1;33m\u001b[0m\u001b[0m\n\u001b[1;32m----> 5\u001b[1;33m folium.Choropleth(\n\u001b[0m\u001b[0;32m      6\u001b[0m     \u001b[0mgeo_data\u001b[0m \u001b[1;33m=\u001b[0m \u001b[0muk_geo\u001b[0m\u001b[1;33m,\u001b[0m\u001b[1;33m\u001b[0m\u001b[1;33m\u001b[0m\u001b[0m\n\u001b[0;32m      7\u001b[0m     \u001b[0mdata\u001b[0m \u001b[1;33m=\u001b[0m \u001b[0mdata_to_plot2\u001b[0m\u001b[1;33m,\u001b[0m\u001b[1;33m\u001b[0m\u001b[1;33m\u001b[0m\u001b[0m\n",
      "\u001b[1;32m~\\OneDrive\\Documentos\\Anaconda3\\lib\\site-packages\\folium\\features.py\u001b[0m in \u001b[0;36m__init__\u001b[1;34m(self, geo_data, data, columns, key_on, bins, fill_color, nan_fill_color, fill_opacity, nan_fill_opacity, line_color, line_weight, line_opacity, name, legend_name, overlay, control, show, topojson, smooth_factor, highlight, **kwargs)\u001b[0m\n\u001b[0;32m   1287\u001b[0m                 smooth_factor=smooth_factor)\n\u001b[0;32m   1288\u001b[0m         \u001b[1;32melse\u001b[0m\u001b[1;33m:\u001b[0m\u001b[1;33m\u001b[0m\u001b[1;33m\u001b[0m\u001b[0m\n\u001b[1;32m-> 1289\u001b[1;33m             self.geojson = GeoJson(\n\u001b[0m\u001b[0;32m   1290\u001b[0m                 \u001b[0mgeo_data\u001b[0m\u001b[1;33m,\u001b[0m\u001b[1;33m\u001b[0m\u001b[1;33m\u001b[0m\u001b[0m\n\u001b[0;32m   1291\u001b[0m                 \u001b[0mstyle_function\u001b[0m\u001b[1;33m=\u001b[0m\u001b[0mstyle_function\u001b[0m\u001b[1;33m,\u001b[0m\u001b[1;33m\u001b[0m\u001b[1;33m\u001b[0m\u001b[0m\n",
      "\u001b[1;32m~\\OneDrive\\Documentos\\Anaconda3\\lib\\site-packages\\folium\\features.py\u001b[0m in \u001b[0;36m__init__\u001b[1;34m(self, data, style_function, highlight_function, name, overlay, control, show, smooth_factor, tooltip, embed, popup, zoom_on_click, marker)\u001b[0m\n\u001b[0;32m    502\u001b[0m             \u001b[0mself\u001b[0m\u001b[1;33m.\u001b[0m\u001b[0mconvert_to_feature_collection\u001b[0m\u001b[1;33m(\u001b[0m\u001b[1;33m)\u001b[0m\u001b[1;33m\u001b[0m\u001b[1;33m\u001b[0m\u001b[0m\n\u001b[0;32m    503\u001b[0m             \u001b[1;32mif\u001b[0m \u001b[0mself\u001b[0m\u001b[1;33m.\u001b[0m\u001b[0mstyle\u001b[0m\u001b[1;33m:\u001b[0m\u001b[1;33m\u001b[0m\u001b[1;33m\u001b[0m\u001b[0m\n\u001b[1;32m--> 504\u001b[1;33m                 \u001b[0mself\u001b[0m\u001b[1;33m.\u001b[0m\u001b[0m_validate_function\u001b[0m\u001b[1;33m(\u001b[0m\u001b[0mstyle_function\u001b[0m\u001b[1;33m,\u001b[0m \u001b[1;34m'style_function'\u001b[0m\u001b[1;33m)\u001b[0m\u001b[1;33m\u001b[0m\u001b[1;33m\u001b[0m\u001b[0m\n\u001b[0m\u001b[0;32m    505\u001b[0m                 \u001b[0mself\u001b[0m\u001b[1;33m.\u001b[0m\u001b[0mstyle_function\u001b[0m \u001b[1;33m=\u001b[0m \u001b[0mstyle_function\u001b[0m\u001b[1;33m\u001b[0m\u001b[1;33m\u001b[0m\u001b[0m\n\u001b[0;32m    506\u001b[0m                 \u001b[0mself\u001b[0m\u001b[1;33m.\u001b[0m\u001b[0mstyle_map\u001b[0m \u001b[1;33m=\u001b[0m \u001b[1;33m{\u001b[0m\u001b[1;33m}\u001b[0m\u001b[1;33m\u001b[0m\u001b[1;33m\u001b[0m\u001b[0m\n",
      "\u001b[1;32m~\\OneDrive\\Documentos\\Anaconda3\\lib\\site-packages\\folium\\features.py\u001b[0m in \u001b[0;36m_validate_function\u001b[1;34m(self, func, name)\u001b[0m\n\u001b[0;32m    567\u001b[0m         \"\"\"\n\u001b[0;32m    568\u001b[0m         \u001b[0mtest_feature\u001b[0m \u001b[1;33m=\u001b[0m \u001b[0mself\u001b[0m\u001b[1;33m.\u001b[0m\u001b[0mdata\u001b[0m\u001b[1;33m[\u001b[0m\u001b[1;34m'features'\u001b[0m\u001b[1;33m]\u001b[0m\u001b[1;33m[\u001b[0m\u001b[1;36m0\u001b[0m\u001b[1;33m]\u001b[0m\u001b[1;33m\u001b[0m\u001b[1;33m\u001b[0m\u001b[0m\n\u001b[1;32m--> 569\u001b[1;33m         \u001b[1;32mif\u001b[0m \u001b[1;32mnot\u001b[0m \u001b[0mcallable\u001b[0m\u001b[1;33m(\u001b[0m\u001b[0mfunc\u001b[0m\u001b[1;33m)\u001b[0m \u001b[1;32mor\u001b[0m \u001b[1;32mnot\u001b[0m \u001b[0misinstance\u001b[0m\u001b[1;33m(\u001b[0m\u001b[0mfunc\u001b[0m\u001b[1;33m(\u001b[0m\u001b[0mtest_feature\u001b[0m\u001b[1;33m)\u001b[0m\u001b[1;33m,\u001b[0m \u001b[0mdict\u001b[0m\u001b[1;33m)\u001b[0m\u001b[1;33m:\u001b[0m\u001b[1;33m\u001b[0m\u001b[1;33m\u001b[0m\u001b[0m\n\u001b[0m\u001b[0;32m    570\u001b[0m             raise ValueError('{} should be a function that accepts items from '\n\u001b[0;32m    571\u001b[0m                              \u001b[1;34m'data[\\'features\\'] and returns a dictionary.'\u001b[0m\u001b[1;33m\u001b[0m\u001b[1;33m\u001b[0m\u001b[0m\n",
      "\u001b[1;32m~\\OneDrive\\Documentos\\Anaconda3\\lib\\site-packages\\folium\\features.py\u001b[0m in \u001b[0;36mstyle_function\u001b[1;34m(x)\u001b[0m\n\u001b[0;32m   1265\u001b[0m \u001b[1;33m\u001b[0m\u001b[0m\n\u001b[0;32m   1266\u001b[0m         \u001b[1;32mdef\u001b[0m \u001b[0mstyle_function\u001b[0m\u001b[1;33m(\u001b[0m\u001b[0mx\u001b[0m\u001b[1;33m)\u001b[0m\u001b[1;33m:\u001b[0m\u001b[1;33m\u001b[0m\u001b[1;33m\u001b[0m\u001b[0m\n\u001b[1;32m-> 1267\u001b[1;33m             \u001b[0mcolor\u001b[0m\u001b[1;33m,\u001b[0m \u001b[0mopacity\u001b[0m \u001b[1;33m=\u001b[0m \u001b[0mcolor_scale_fun\u001b[0m\u001b[1;33m(\u001b[0m\u001b[0mx\u001b[0m\u001b[1;33m)\u001b[0m\u001b[1;33m\u001b[0m\u001b[1;33m\u001b[0m\u001b[0m\n\u001b[0m\u001b[0;32m   1268\u001b[0m             return {\n\u001b[0;32m   1269\u001b[0m                 \u001b[1;34m'weight'\u001b[0m\u001b[1;33m:\u001b[0m \u001b[0mline_weight\u001b[0m\u001b[1;33m,\u001b[0m\u001b[1;33m\u001b[0m\u001b[1;33m\u001b[0m\u001b[0m\n",
      "\u001b[1;32m~\\OneDrive\\Documentos\\Anaconda3\\lib\\site-packages\\folium\\features.py\u001b[0m in \u001b[0;36mcolor_scale_fun\u001b[1;34m(x)\u001b[0m\n\u001b[0;32m   1246\u001b[0m \u001b[1;33m\u001b[0m\u001b[0m\n\u001b[0;32m   1247\u001b[0m             \u001b[1;32mdef\u001b[0m \u001b[0mcolor_scale_fun\u001b[0m\u001b[1;33m(\u001b[0m\u001b[0mx\u001b[0m\u001b[1;33m)\u001b[0m\u001b[1;33m:\u001b[0m\u001b[1;33m\u001b[0m\u001b[1;33m\u001b[0m\u001b[0m\n\u001b[1;32m-> 1248\u001b[1;33m                 \u001b[0mkey_of_x\u001b[0m \u001b[1;33m=\u001b[0m \u001b[0mget_by_key\u001b[0m\u001b[1;33m(\u001b[0m\u001b[0mx\u001b[0m\u001b[1;33m,\u001b[0m \u001b[0mkey_on\u001b[0m\u001b[1;33m)\u001b[0m\u001b[1;33m\u001b[0m\u001b[1;33m\u001b[0m\u001b[0m\n\u001b[0m\u001b[0;32m   1249\u001b[0m                 \u001b[1;32mif\u001b[0m \u001b[0mkey_of_x\u001b[0m \u001b[1;32mis\u001b[0m \u001b[1;32mNone\u001b[0m\u001b[1;33m:\u001b[0m\u001b[1;33m\u001b[0m\u001b[1;33m\u001b[0m\u001b[0m\n\u001b[0;32m   1250\u001b[0m                     \u001b[1;32mraise\u001b[0m \u001b[0mValueError\u001b[0m\u001b[1;33m(\u001b[0m\u001b[1;34m\"key_on `{!r}` not found in GeoJSON.\"\u001b[0m\u001b[1;33m.\u001b[0m\u001b[0mformat\u001b[0m\u001b[1;33m(\u001b[0m\u001b[0mkey_on\u001b[0m\u001b[1;33m)\u001b[0m\u001b[1;33m)\u001b[0m\u001b[1;33m\u001b[0m\u001b[1;33m\u001b[0m\u001b[0m\n",
      "\u001b[1;32m~\\OneDrive\\Documentos\\Anaconda3\\lib\\site-packages\\folium\\features.py\u001b[0m in \u001b[0;36mget_by_key\u001b[1;34m(obj, key)\u001b[0m\n\u001b[0;32m   1242\u001b[0m             \u001b[1;32mdef\u001b[0m \u001b[0mget_by_key\u001b[0m\u001b[1;33m(\u001b[0m\u001b[0mobj\u001b[0m\u001b[1;33m,\u001b[0m \u001b[0mkey\u001b[0m\u001b[1;33m)\u001b[0m\u001b[1;33m:\u001b[0m\u001b[1;33m\u001b[0m\u001b[1;33m\u001b[0m\u001b[0m\n\u001b[0;32m   1243\u001b[0m                 return (obj.get(key, None) if len(key.split('.')) <= 1 else\n\u001b[1;32m-> 1244\u001b[1;33m                         get_by_key(obj.get(key.split('.')[0], None),\n\u001b[0m\u001b[0;32m   1245\u001b[0m                                    '.'.join(key.split('.')[1:])))\n\u001b[0;32m   1246\u001b[0m \u001b[1;33m\u001b[0m\u001b[0m\n",
      "\u001b[1;32m~\\OneDrive\\Documentos\\Anaconda3\\lib\\site-packages\\folium\\features.py\u001b[0m in \u001b[0;36mget_by_key\u001b[1;34m(obj, key)\u001b[0m\n\u001b[0;32m   1242\u001b[0m             \u001b[1;32mdef\u001b[0m \u001b[0mget_by_key\u001b[0m\u001b[1;33m(\u001b[0m\u001b[0mobj\u001b[0m\u001b[1;33m,\u001b[0m \u001b[0mkey\u001b[0m\u001b[1;33m)\u001b[0m\u001b[1;33m:\u001b[0m\u001b[1;33m\u001b[0m\u001b[1;33m\u001b[0m\u001b[0m\n\u001b[0;32m   1243\u001b[0m                 return (obj.get(key, None) if len(key.split('.')) <= 1 else\n\u001b[1;32m-> 1244\u001b[1;33m                         get_by_key(obj.get(key.split('.')[0], None),\n\u001b[0m\u001b[0;32m   1245\u001b[0m                                    '.'.join(key.split('.')[1:])))\n\u001b[0;32m   1246\u001b[0m \u001b[1;33m\u001b[0m\u001b[0m\n",
      "\u001b[1;31mAttributeError\u001b[0m: 'NoneType' object has no attribute 'get'"
     ]
    }
   ],
   "source": [
    "# Setup a folium map at a high-level zoom\n",
    "map = folium.Map(location = [100, 0], zoom_start = 1.5)\n",
    "\n",
    "# Choropleth maps bind Pandas Data Frames and json geometries.This allows us to quickly visualize data combinations\n",
    "folium.Choropleth(\n",
    "    geo_data = uk_geo, \n",
    "    data = data_to_plot2,\n",
    "    columns = ['RegionName', 'NewSalesVolume'],\n",
    "    key_on = 'object.properties.LAD13NM', \n",
    "    fill_color = 'YlOrBr', fill_opacity=0.6, line_opacity=0.1,\n",
    "    legend_name = \"rating\").add_to(map)\n",
    "folium.LayerControl().add_to(map)\n",
    "\n",
    "map"
   ]
  },
  {
   "cell_type": "markdown",
   "id": "82d8307d",
   "metadata": {},
   "source": [
    "### 6. Conclussions"
   ]
  },
  {
   "cell_type": "code",
   "execution_count": null,
   "id": "4909b3dd",
   "metadata": {},
   "outputs": [],
   "source": []
  }
 ],
 "metadata": {
  "kernelspec": {
   "display_name": "Python 3",
   "language": "python",
   "name": "python3"
  },
  "language_info": {
   "codemirror_mode": {
    "name": "ipython",
    "version": 3
   },
   "file_extension": ".py",
   "mimetype": "text/x-python",
   "name": "python",
   "nbconvert_exporter": "python",
   "pygments_lexer": "ipython3",
   "version": "3.8.8"
  }
 },
 "nbformat": 4,
 "nbformat_minor": 5
}
