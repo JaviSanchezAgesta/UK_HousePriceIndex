{
 "cells": [
  {
   "cell_type": "markdown",
   "id": "8ae78efb",
   "metadata": {},
   "source": [
    "# Task 6.4. Supervised Machine Learning: Regression"
   ]
  },
  {
   "cell_type": "markdown",
   "id": "bee609f0",
   "metadata": {},
   "source": [
    "### This script contains the following:\n",
    "#### 1. Import data and libraries\n",
    "#### 2. Data cleaning\n",
    "#### 3. Data Preparation for Regression Analysis\n",
    "#### 4. Hypothesis \n",
    "#### 5. Reshaping variables\n",
    "#### 6. Splitting data\n",
    "#### 7. Linear regression\n",
    "#### 8. Plot on test\n",
    "#### 9. Results Interpretation\n",
    "#### 10. Model Performance Statistics\n",
    "#### 11. Comparison of predicted and actual values\n",
    "#### 12. Conclussions"
   ]
  },
  {
   "cell_type": "markdown",
   "id": "16cc15b2",
   "metadata": {},
   "source": [
    "## ---------------------------------------------------------------------------------------------------------------------"
   ]
  },
  {
   "cell_type": "markdown",
   "id": "fd811461",
   "metadata": {},
   "source": [
    "### 1. Importing data and libraries"
   ]
  },
  {
   "cell_type": "code",
   "execution_count": 1,
   "id": "bc1a044f",
   "metadata": {},
   "outputs": [],
   "source": [
    "# After installing scikit-learn through the command prompt, install libraries needed for analysis\n",
    "\n",
    "import pandas as pd\n",
    "import numpy as np\n",
    "import seaborn as sns\n",
    "import matplotlib\n",
    "import matplotlib.pyplot as plt\n",
    "import os\n",
    "import sklearn\n",
    "from sklearn.model_selection import train_test_split \n",
    "from sklearn.linear_model import LinearRegression\n",
    "from sklearn.metrics import mean_squared_error, r2_score"
   ]
  },
  {
   "cell_type": "code",
   "execution_count": 2,
   "id": "a7a78e2d",
   "metadata": {},
   "outputs": [],
   "source": [
    "# Then we create a path \n",
    "\n",
    "path = r'C:\\Users\\javis\\OneDrive\\Documentos\\Career Foundry\\2. Data Immersion\\6. Advanced Analytics\\UK HPI Project'"
   ]
  },
  {
   "cell_type": "code",
   "execution_count": 3,
   "id": "d926e616",
   "metadata": {},
   "outputs": [],
   "source": [
    "# We import our data, which had already been cleaned\n",
    "\n",
    "df = pd.read_csv(os.path.join(path,'2. Data', '2.2. Prepared Data', 'HPI wrangled.csv'), index_col = False)"
   ]
  },
  {
   "cell_type": "code",
   "execution_count": 4,
   "id": "46e14be1",
   "metadata": {},
   "outputs": [
    {
     "data": {
      "text/html": [
       "<div>\n",
       "<style scoped>\n",
       "    .dataframe tbody tr th:only-of-type {\n",
       "        vertical-align: middle;\n",
       "    }\n",
       "\n",
       "    .dataframe tbody tr th {\n",
       "        vertical-align: top;\n",
       "    }\n",
       "\n",
       "    .dataframe thead th {\n",
       "        text-align: right;\n",
       "    }\n",
       "</style>\n",
       "<table border=\"1\" class=\"dataframe\">\n",
       "  <thead>\n",
       "    <tr style=\"text-align: right;\">\n",
       "      <th></th>\n",
       "      <th>Unnamed: 0</th>\n",
       "      <th>Date</th>\n",
       "      <th>RegionName</th>\n",
       "      <th>AreaCode</th>\n",
       "      <th>AveragePrice</th>\n",
       "      <th>Index</th>\n",
       "      <th>IndexSA</th>\n",
       "      <th>%Change_AvgPrice_1month</th>\n",
       "      <th>%Change_AvgPrice_12months</th>\n",
       "      <th>AveragePriceSA</th>\n",
       "      <th>...</th>\n",
       "      <th>NewPrice</th>\n",
       "      <th>NewIndex</th>\n",
       "      <th>New1m%Change</th>\n",
       "      <th>New12m%Change</th>\n",
       "      <th>NewSalesVolume</th>\n",
       "      <th>OldPrice</th>\n",
       "      <th>OldIndex</th>\n",
       "      <th>Old1m%Change</th>\n",
       "      <th>Old12m%Change</th>\n",
       "      <th>OldSalesVolume</th>\n",
       "    </tr>\n",
       "  </thead>\n",
       "  <tbody>\n",
       "    <tr>\n",
       "      <th>0</th>\n",
       "      <td>0</td>\n",
       "      <td>01/01/2004</td>\n",
       "      <td>Aberdeenshire</td>\n",
       "      <td>S12000034</td>\n",
       "      <td>81693.66964</td>\n",
       "      <td>40.864214</td>\n",
       "      <td>NaN</td>\n",
       "      <td>NaN</td>\n",
       "      <td>NaN</td>\n",
       "      <td>NaN</td>\n",
       "      <td>...</td>\n",
       "      <td>88436.13953</td>\n",
       "      <td>40.267250</td>\n",
       "      <td>NaN</td>\n",
       "      <td>NaN</td>\n",
       "      <td>103.0</td>\n",
       "      <td>81043.95084</td>\n",
       "      <td>40.883367</td>\n",
       "      <td>NaN</td>\n",
       "      <td>NaN</td>\n",
       "      <td>285.0</td>\n",
       "    </tr>\n",
       "    <tr>\n",
       "      <th>1</th>\n",
       "      <td>1</td>\n",
       "      <td>01/02/2004</td>\n",
       "      <td>Aberdeenshire</td>\n",
       "      <td>S12000034</td>\n",
       "      <td>81678.76231</td>\n",
       "      <td>40.856757</td>\n",
       "      <td>NaN</td>\n",
       "      <td>-0.018248</td>\n",
       "      <td>NaN</td>\n",
       "      <td>NaN</td>\n",
       "      <td>...</td>\n",
       "      <td>88606.44649</td>\n",
       "      <td>40.344795</td>\n",
       "      <td>0.192576</td>\n",
       "      <td>NaN</td>\n",
       "      <td>107.0</td>\n",
       "      <td>80965.29542</td>\n",
       "      <td>40.843688</td>\n",
       "      <td>-0.097053</td>\n",
       "      <td>NaN</td>\n",
       "      <td>219.0</td>\n",
       "    </tr>\n",
       "    <tr>\n",
       "      <th>2</th>\n",
       "      <td>2</td>\n",
       "      <td>01/03/2004</td>\n",
       "      <td>Aberdeenshire</td>\n",
       "      <td>S12000034</td>\n",
       "      <td>83525.09702</td>\n",
       "      <td>41.780317</td>\n",
       "      <td>NaN</td>\n",
       "      <td>2.260483</td>\n",
       "      <td>NaN</td>\n",
       "      <td>NaN</td>\n",
       "      <td>...</td>\n",
       "      <td>90296.91375</td>\n",
       "      <td>41.114508</td>\n",
       "      <td>1.907838</td>\n",
       "      <td>NaN</td>\n",
       "      <td>140.0</td>\n",
       "      <td>82903.23948</td>\n",
       "      <td>41.821302</td>\n",
       "      <td>2.393549</td>\n",
       "      <td>NaN</td>\n",
       "      <td>313.0</td>\n",
       "    </tr>\n",
       "    <tr>\n",
       "      <th>3</th>\n",
       "      <td>3</td>\n",
       "      <td>01/04/2004</td>\n",
       "      <td>Aberdeenshire</td>\n",
       "      <td>S12000034</td>\n",
       "      <td>84333.67900</td>\n",
       "      <td>42.184780</td>\n",
       "      <td>NaN</td>\n",
       "      <td>0.968071</td>\n",
       "      <td>NaN</td>\n",
       "      <td>NaN</td>\n",
       "      <td>...</td>\n",
       "      <td>90319.87844</td>\n",
       "      <td>41.124964</td>\n",
       "      <td>0.025432</td>\n",
       "      <td>NaN</td>\n",
       "      <td>180.0</td>\n",
       "      <td>84003.99161</td>\n",
       "      <td>42.376586</td>\n",
       "      <td>1.327755</td>\n",
       "      <td>NaN</td>\n",
       "      <td>391.0</td>\n",
       "    </tr>\n",
       "    <tr>\n",
       "      <th>4</th>\n",
       "      <td>4</td>\n",
       "      <td>01/05/2004</td>\n",
       "      <td>Aberdeenshire</td>\n",
       "      <td>S12000034</td>\n",
       "      <td>86379.95396</td>\n",
       "      <td>43.208353</td>\n",
       "      <td>NaN</td>\n",
       "      <td>2.426403</td>\n",
       "      <td>NaN</td>\n",
       "      <td>NaN</td>\n",
       "      <td>...</td>\n",
       "      <td>91989.17763</td>\n",
       "      <td>41.885039</td>\n",
       "      <td>1.848208</td>\n",
       "      <td>NaN</td>\n",
       "      <td>167.0</td>\n",
       "      <td>86222.73484</td>\n",
       "      <td>43.495852</td>\n",
       "      <td>2.641235</td>\n",
       "      <td>NaN</td>\n",
       "      <td>335.0</td>\n",
       "    </tr>\n",
       "  </tbody>\n",
       "</table>\n",
       "<p>5 rows × 55 columns</p>\n",
       "</div>"
      ],
      "text/plain": [
       "   Unnamed: 0        Date     RegionName   AreaCode  AveragePrice      Index  \\\n",
       "0           0  01/01/2004  Aberdeenshire  S12000034   81693.66964  40.864214   \n",
       "1           1  01/02/2004  Aberdeenshire  S12000034   81678.76231  40.856757   \n",
       "2           2  01/03/2004  Aberdeenshire  S12000034   83525.09702  41.780317   \n",
       "3           3  01/04/2004  Aberdeenshire  S12000034   84333.67900  42.184780   \n",
       "4           4  01/05/2004  Aberdeenshire  S12000034   86379.95396  43.208353   \n",
       "\n",
       "   IndexSA  %Change_AvgPrice_1month  %Change_AvgPrice_12months  \\\n",
       "0      NaN                      NaN                        NaN   \n",
       "1      NaN                -0.018248                        NaN   \n",
       "2      NaN                 2.260483                        NaN   \n",
       "3      NaN                 0.968071                        NaN   \n",
       "4      NaN                 2.426403                        NaN   \n",
       "\n",
       "   AveragePriceSA  ...     NewPrice   NewIndex  New1m%Change  New12m%Change  \\\n",
       "0             NaN  ...  88436.13953  40.267250           NaN            NaN   \n",
       "1             NaN  ...  88606.44649  40.344795      0.192576            NaN   \n",
       "2             NaN  ...  90296.91375  41.114508      1.907838            NaN   \n",
       "3             NaN  ...  90319.87844  41.124964      0.025432            NaN   \n",
       "4             NaN  ...  91989.17763  41.885039      1.848208            NaN   \n",
       "\n",
       "   NewSalesVolume     OldPrice   OldIndex  Old1m%Change  Old12m%Change  \\\n",
       "0           103.0  81043.95084  40.883367           NaN            NaN   \n",
       "1           107.0  80965.29542  40.843688     -0.097053            NaN   \n",
       "2           140.0  82903.23948  41.821302      2.393549            NaN   \n",
       "3           180.0  84003.99161  42.376586      1.327755            NaN   \n",
       "4           167.0  86222.73484  43.495852      2.641235            NaN   \n",
       "\n",
       "   OldSalesVolume  \n",
       "0           285.0  \n",
       "1           219.0  \n",
       "2           313.0  \n",
       "3           391.0  \n",
       "4           335.0  \n",
       "\n",
       "[5 rows x 55 columns]"
      ]
     },
     "execution_count": 4,
     "metadata": {},
     "output_type": "execute_result"
    }
   ],
   "source": [
    "# To have a look at how it looks like\n",
    "\n",
    "df.head()"
   ]
  },
  {
   "cell_type": "code",
   "execution_count": 5,
   "id": "c58e87eb",
   "metadata": {},
   "outputs": [],
   "source": [
    "# This command propts matplotlib visuals to appear in the notebook \n",
    "\n",
    "%matplotlib inline"
   ]
  },
  {
   "cell_type": "markdown",
   "id": "d90e1ae8",
   "metadata": {},
   "source": [
    "### 2. Data cleaning and wrangling"
   ]
  },
  {
   "cell_type": "markdown",
   "id": "23c7a5f4",
   "metadata": {},
   "source": [
    "#### 2.1. Missing values"
   ]
  },
  {
   "cell_type": "code",
   "execution_count": 6,
   "id": "51742d0a",
   "metadata": {},
   "outputs": [
    {
     "data": {
      "text/plain": [
       "Unnamed: 0                        0\n",
       "Date                              0\n",
       "RegionName                        0\n",
       "AreaCode                          0\n",
       "AveragePrice                      0\n",
       "Index                             0\n",
       "IndexSA                      130305\n",
       "%Change_AvgPrice_1month         443\n",
       "%Change_AvgPrice_12months      5040\n",
       "AveragePriceSA               130305\n",
       "SalesVolume                    4499\n",
       "DetachedPrice                  6237\n",
       "DetachedIndex                  6237\n",
       "Detached1m%Change              6646\n",
       "Detached12m%Change            11121\n",
       "SemiDetachedPrice              6225\n",
       "SemiDetachedIndex              6225\n",
       "SemiDetached1m%Change          6634\n",
       "SemiDetached12m%Change        11109\n",
       "TerracedPrice                  6198\n",
       "TerracedIndex                  6198\n",
       "Terraced1m%Change              6607\n",
       "Terraced12m%Change            11082\n",
       "FlatPrice                      5901\n",
       "FlatIndex                      5901\n",
       "Flat1m%Change                  6311\n",
       "Flat12m%Change                10797\n",
       "CashPrice                     85869\n",
       "CashIndex                     85869\n",
       "Cash1m%Change                 86275\n",
       "Cash12m%Change                90741\n",
       "CashSalesVolume               86686\n",
       "MortgagePrice                 85869\n",
       "MortgageIndex                 85869\n",
       "Mortgage1m%Change             86275\n",
       "Mortgage12m%Change            90741\n",
       "MortgageSalesVolume           86685\n",
       "FTBPrice                      85473\n",
       "FTBIndex                      85473\n",
       "FTB1m%Change                  85879\n",
       "FTB12m%Change                 90345\n",
       "FOOPrice                      85869\n",
       "FOOIndex                      85869\n",
       "FOO1m%Change                  86275\n",
       "FOO12m%Change                 90741\n",
       "NewPrice                       6724\n",
       "NewIndex                       6724\n",
       "New1m%Change                   7134\n",
       "New12m%Change                 11620\n",
       "NewSalesVolume                 7087\n",
       "OldPrice                       6721\n",
       "OldIndex                       6721\n",
       "Old1m%Change                   7131\n",
       "Old12m%Change                 11617\n",
       "OldSalesVolume                 6734\n",
       "dtype: int64"
      ]
     },
     "execution_count": 6,
     "metadata": {},
     "output_type": "execute_result"
    }
   ],
   "source": [
    "# Check for missing values\n",
    "\n",
    "df.isnull().sum()"
   ]
  },
  {
   "cell_type": "markdown",
   "id": "4c799143",
   "metadata": {},
   "source": [
    "There are many missing values but I won't fix that now as I won't be using all the variables in the set"
   ]
  },
  {
   "cell_type": "markdown",
   "id": "b66d69b4",
   "metadata": {},
   "source": [
    "#### 2.2. Subseting dataframe"
   ]
  },
  {
   "cell_type": "code",
   "execution_count": 38,
   "id": "079fda27",
   "metadata": {},
   "outputs": [],
   "source": [
    "# I will create a subset for those variables that I will use for our analysis. But I will define the columns first\n",
    "\n",
    "columns = [\"RegionName\",\"AreaCode\", \"AveragePrice\", \"Index\",\"%Change_AvgPrice_1month\",\"%Change_AvgPrice_12months\",\"SalesVolume\",\"NewPrice\",\"NewSalesVolume\", \"OldPrice\", \"OldSalesVolume\"]"
   ]
  },
  {
   "cell_type": "code",
   "execution_count": 39,
   "id": "7c9d48a4",
   "metadata": {},
   "outputs": [],
   "source": [
    "# To create the subset\n",
    "\n",
    "uk_hpi = df[columns]"
   ]
  },
  {
   "cell_type": "code",
   "execution_count": 40,
   "id": "fca12cbc",
   "metadata": {},
   "outputs": [
    {
     "data": {
      "text/html": [
       "<div>\n",
       "<style scoped>\n",
       "    .dataframe tbody tr th:only-of-type {\n",
       "        vertical-align: middle;\n",
       "    }\n",
       "\n",
       "    .dataframe tbody tr th {\n",
       "        vertical-align: top;\n",
       "    }\n",
       "\n",
       "    .dataframe thead th {\n",
       "        text-align: right;\n",
       "    }\n",
       "</style>\n",
       "<table border=\"1\" class=\"dataframe\">\n",
       "  <thead>\n",
       "    <tr style=\"text-align: right;\">\n",
       "      <th></th>\n",
       "      <th>RegionName</th>\n",
       "      <th>AreaCode</th>\n",
       "      <th>AveragePrice</th>\n",
       "      <th>Index</th>\n",
       "      <th>%Change_AvgPrice_1month</th>\n",
       "      <th>%Change_AvgPrice_12months</th>\n",
       "      <th>SalesVolume</th>\n",
       "      <th>NewPrice</th>\n",
       "      <th>NewSalesVolume</th>\n",
       "      <th>OldPrice</th>\n",
       "      <th>OldSalesVolume</th>\n",
       "    </tr>\n",
       "  </thead>\n",
       "  <tbody>\n",
       "    <tr>\n",
       "      <th>0</th>\n",
       "      <td>Aberdeenshire</td>\n",
       "      <td>S12000034</td>\n",
       "      <td>81693.66964</td>\n",
       "      <td>40.864214</td>\n",
       "      <td>NaN</td>\n",
       "      <td>NaN</td>\n",
       "      <td>388.0</td>\n",
       "      <td>88436.13953</td>\n",
       "      <td>103.0</td>\n",
       "      <td>81043.95084</td>\n",
       "      <td>285.0</td>\n",
       "    </tr>\n",
       "    <tr>\n",
       "      <th>1</th>\n",
       "      <td>Aberdeenshire</td>\n",
       "      <td>S12000034</td>\n",
       "      <td>81678.76231</td>\n",
       "      <td>40.856757</td>\n",
       "      <td>-0.018248</td>\n",
       "      <td>NaN</td>\n",
       "      <td>326.0</td>\n",
       "      <td>88606.44649</td>\n",
       "      <td>107.0</td>\n",
       "      <td>80965.29542</td>\n",
       "      <td>219.0</td>\n",
       "    </tr>\n",
       "    <tr>\n",
       "      <th>2</th>\n",
       "      <td>Aberdeenshire</td>\n",
       "      <td>S12000034</td>\n",
       "      <td>83525.09702</td>\n",
       "      <td>41.780317</td>\n",
       "      <td>2.260483</td>\n",
       "      <td>NaN</td>\n",
       "      <td>453.0</td>\n",
       "      <td>90296.91375</td>\n",
       "      <td>140.0</td>\n",
       "      <td>82903.23948</td>\n",
       "      <td>313.0</td>\n",
       "    </tr>\n",
       "    <tr>\n",
       "      <th>3</th>\n",
       "      <td>Aberdeenshire</td>\n",
       "      <td>S12000034</td>\n",
       "      <td>84333.67900</td>\n",
       "      <td>42.184780</td>\n",
       "      <td>0.968071</td>\n",
       "      <td>NaN</td>\n",
       "      <td>571.0</td>\n",
       "      <td>90319.87844</td>\n",
       "      <td>180.0</td>\n",
       "      <td>84003.99161</td>\n",
       "      <td>391.0</td>\n",
       "    </tr>\n",
       "    <tr>\n",
       "      <th>4</th>\n",
       "      <td>Aberdeenshire</td>\n",
       "      <td>S12000034</td>\n",
       "      <td>86379.95396</td>\n",
       "      <td>43.208353</td>\n",
       "      <td>2.426403</td>\n",
       "      <td>NaN</td>\n",
       "      <td>502.0</td>\n",
       "      <td>91989.17763</td>\n",
       "      <td>167.0</td>\n",
       "      <td>86222.73484</td>\n",
       "      <td>335.0</td>\n",
       "    </tr>\n",
       "  </tbody>\n",
       "</table>\n",
       "</div>"
      ],
      "text/plain": [
       "      RegionName   AreaCode  AveragePrice      Index  %Change_AvgPrice_1month  \\\n",
       "0  Aberdeenshire  S12000034   81693.66964  40.864214                      NaN   \n",
       "1  Aberdeenshire  S12000034   81678.76231  40.856757                -0.018248   \n",
       "2  Aberdeenshire  S12000034   83525.09702  41.780317                 2.260483   \n",
       "3  Aberdeenshire  S12000034   84333.67900  42.184780                 0.968071   \n",
       "4  Aberdeenshire  S12000034   86379.95396  43.208353                 2.426403   \n",
       "\n",
       "   %Change_AvgPrice_12months  SalesVolume     NewPrice  NewSalesVolume  \\\n",
       "0                        NaN        388.0  88436.13953           103.0   \n",
       "1                        NaN        326.0  88606.44649           107.0   \n",
       "2                        NaN        453.0  90296.91375           140.0   \n",
       "3                        NaN        571.0  90319.87844           180.0   \n",
       "4                        NaN        502.0  91989.17763           167.0   \n",
       "\n",
       "      OldPrice  OldSalesVolume  \n",
       "0  81043.95084           285.0  \n",
       "1  80965.29542           219.0  \n",
       "2  82903.23948           313.0  \n",
       "3  84003.99161           391.0  \n",
       "4  86222.73484           335.0  "
      ]
     },
     "execution_count": 40,
     "metadata": {},
     "output_type": "execute_result"
    }
   ],
   "source": [
    "# To check the subset\n",
    "\n",
    "uk_hpi.head()"
   ]
  },
  {
   "cell_type": "markdown",
   "id": "c2fdda2f",
   "metadata": {},
   "source": [
    "#### 2.3. Filling up missing values"
   ]
  },
  {
   "cell_type": "code",
   "execution_count": 43,
   "id": "dc3feb3e",
   "metadata": {},
   "outputs": [],
   "source": [
    "# For those variables that we will use, I will impute missing values with median\n",
    "\n",
    "uk_hpi['%Change_AvgPrice_1month'].fillna(uk_hpi['%Change_AvgPrice_1month'].median(), inplace=True)\n",
    "uk_hpi['%Change_AvgPrice_12months'].fillna(uk_hpi['%Change_AvgPrice_12months'].median(), inplace=True)\n",
    "uk_hpi['NewPrice'].fillna(uk_hpi['NewPrice'].median(), inplace=True)\n",
    "uk_hpi['NewSalesVolume'].fillna(uk_hpi['NewSalesVolume'].median(), inplace=True)\n",
    "uk_hpi['OldPrice'].fillna(uk_hpi['OldPrice'].median(), inplace=True)\n",
    "uk_hpi['OldSalesVolume'].fillna(uk_hpi['OldSalesVolume'].median(), inplace=True)\n",
    "uk_hpi['SalesVolume'].fillna(uk_hpi['SalesVolume'].median(), inplace=True)"
   ]
  },
  {
   "cell_type": "code",
   "execution_count": 44,
   "id": "491577ce",
   "metadata": {},
   "outputs": [
    {
     "data": {
      "text/plain": [
       "RegionName                   0\n",
       "AreaCode                     0\n",
       "AveragePrice                 0\n",
       "Index                        0\n",
       "%Change_AvgPrice_1month      0\n",
       "%Change_AvgPrice_12months    0\n",
       "SalesVolume                  0\n",
       "NewPrice                     0\n",
       "NewSalesVolume               0\n",
       "OldPrice                     0\n",
       "OldSalesVolume               0\n",
       "dtype: int64"
      ]
     },
     "execution_count": 44,
     "metadata": {},
     "output_type": "execute_result"
    }
   ],
   "source": [
    "# Last check for NaN\n",
    "\n",
    "uk_hpi.isnull().sum()"
   ]
  },
  {
   "cell_type": "markdown",
   "id": "67f342ae",
   "metadata": {},
   "source": [
    "#### 2.4. Duplicates"
   ]
  },
  {
   "cell_type": "code",
   "execution_count": 45,
   "id": "8a259936",
   "metadata": {},
   "outputs": [],
   "source": [
    "# To look out for duplicates\n",
    "\n",
    "dups = uk_hpi.duplicated()"
   ]
  },
  {
   "cell_type": "code",
   "execution_count": 46,
   "id": "e0ed3de0",
   "metadata": {},
   "outputs": [
    {
     "data": {
      "text/plain": [
       "(134829,)"
      ]
     },
     "execution_count": 46,
     "metadata": {},
     "output_type": "execute_result"
    }
   ],
   "source": [
    "dups.shape # No dups"
   ]
  },
  {
   "cell_type": "markdown",
   "id": "98f43332",
   "metadata": {},
   "source": [
    "#### 2.5. Extreme values"
   ]
  },
  {
   "cell_type": "code",
   "execution_count": 47,
   "id": "1d50941b",
   "metadata": {},
   "outputs": [
    {
     "data": {
      "text/plain": [
       "<AxesSubplot:xlabel='AveragePrice', ylabel='Count'>"
      ]
     },
     "execution_count": 47,
     "metadata": {},
     "output_type": "execute_result"
    },
    {
     "data": {
      "image/png": "[encoded data removed]",
      "text/plain": [
       "<Figure size 432x288 with 1 Axes>"
      ]
     },
     "metadata": {
      "needs_background": "light"
     },
     "output_type": "display_data"
    }
   ],
   "source": [
    "# To check if we have extreme values\n",
    "\n",
    "sns.histplot(uk_hpi ['AveragePrice'], bins=20, kde = True) # shows extreme values for 'AveragePrice'"
   ]
  },
  {
   "cell_type": "code",
   "execution_count": 48,
   "id": "39e3ed96",
   "metadata": {},
   "outputs": [
    {
     "data": {
      "text/plain": [
       "<AxesSubplot:xlabel='NewPrice', ylabel='Count'>"
      ]
     },
     "execution_count": 48,
     "metadata": {},
     "output_type": "execute_result"
    },
    {
     "data": {
      "image/png": "[encoded data removed]",
      "text/plain": [
       "<Figure size 432x288 with 1 Axes>"
      ]
     },
     "metadata": {
      "needs_background": "light"
     },
     "output_type": "display_data"
    }
   ],
   "source": [
    "sns.histplot(uk_hpi ['NewPrice'], bins=20, kde = True) # shows extreme values for 'AveragePrice'"
   ]
  },
  {
   "cell_type": "code",
   "execution_count": 49,
   "id": "8cfcf9a2",
   "metadata": {},
   "outputs": [
    {
     "data": {
      "text/plain": [
       "<AxesSubplot:xlabel='NewSalesVolume', ylabel='Count'>"
      ]
     },
     "execution_count": 49,
     "metadata": {},
     "output_type": "execute_result"
    },
    {
     "data": {
      "image/png": "[encoded data removed]",
      "text/plain": [
       "<Figure size 432x288 with 1 Axes>"
      ]
     },
     "metadata": {
      "needs_background": "light"
     },
     "output_type": "display_data"
    }
   ],
   "source": [
    "sns.histplot(uk_hpi ['NewSalesVolume'], bins=20, kde = True) # shows extreme values for 'AveragePrice'"
   ]
  },
  {
   "cell_type": "code",
   "execution_count": 67,
   "id": "9f4840eb",
   "metadata": {},
   "outputs": [
    {
     "data": {
      "text/plain": [
       "197496.78134553556"
      ]
     },
     "execution_count": 67,
     "metadata": {},
     "output_type": "execute_result"
    }
   ],
   "source": [
    "# To check the mean\n",
    "\n",
    "uk_hpi['NewPrice'].mean()"
   ]
  },
  {
   "cell_type": "code",
   "execution_count": 66,
   "id": "089fa9be",
   "metadata": {},
   "outputs": [
    {
     "data": {
      "text/plain": [
       "122.65364276231375"
      ]
     },
     "execution_count": 66,
     "metadata": {},
     "output_type": "execute_result"
    }
   ],
   "source": [
    "uk_hpi['NewSalesVolume'].mean()"
   ]
  },
  {
   "cell_type": "code",
   "execution_count": 65,
   "id": "c86c7a46",
   "metadata": {},
   "outputs": [
    {
     "data": {
      "text/plain": [
       "1182.2134926462409"
      ]
     },
     "execution_count": 65,
     "metadata": {},
     "output_type": "execute_result"
    }
   ],
   "source": [
    "uk_hpi['SalesVolume'].mean()"
   ]
  },
  {
   "cell_type": "markdown",
   "id": "b000f58d",
   "metadata": {},
   "source": [
    "### 3. Preparating data for Regression Analysis"
   ]
  },
  {
   "cell_type": "code",
   "execution_count": 71,
   "id": "7e9707a9",
   "metadata": {},
   "outputs": [
    {
     "data": {
      "image/png": "[encoded data removed]",
      "text/plain": [
       "<Figure size 432x288 with 1 Axes>"
      ]
     },
     "metadata": {
      "needs_background": "light"
     },
     "output_type": "display_data"
    }
   ],
   "source": [
    "# Create a scatterplot using matplotlib to see how the chosen variables plot against each other.\n",
    "\n",
    "uk_hpi.plot(x = 'SalesVolume', y='AveragePrice',style='o') \n",
    "plt.title('Sales Volume and Average Price')  \n",
    "plt.xlabel('SalesVolume')  \n",
    "plt.ylabel('AveragePrice')  \n",
    "plt.show()"
   ]
  },
  {
   "cell_type": "code",
   "execution_count": 72,
   "id": "17a4b961",
   "metadata": {},
   "outputs": [
    {
     "data": {
      "image/png": "[encoded data removed]",
      "text/plain": [
       "<Figure size 432x288 with 1 Axes>"
      ]
     },
     "metadata": {
      "needs_background": "light"
     },
     "output_type": "display_data"
    }
   ],
   "source": [
    "# I will do the same for another couple of variables relationships\n",
    "\n",
    "uk_hpi.plot(x = 'SalesVolume', y='%Change_AvgPrice_1month',style='o') \n",
    "plt.title('SalesVolume and %Change_AvgPrice_1month')  \n",
    "plt.xlabel('SalesVolume')  \n",
    "plt.ylabel('%Change_AvgPrice_1month')  \n",
    "plt.show()"
   ]
  },
  {
   "cell_type": "code",
   "execution_count": 73,
   "id": "2be0b3b5",
   "metadata": {},
   "outputs": [
    {
     "data": {
      "image/png": "[encoded data removed]",
      "text/plain": [
       "<Figure size 432x288 with 1 Axes>"
      ]
     },
     "metadata": {
      "needs_background": "light"
     },
     "output_type": "display_data"
    }
   ],
   "source": [
    "uk_hpi.plot(x = 'SalesVolume', y='Index',style='o') \n",
    "plt.title('SalesVolume and Index')  \n",
    "plt.xlabel('SalesVolume')  \n",
    "plt.ylabel('Index')  \n",
    "plt.show()"
   ]
  },
  {
   "cell_type": "markdown",
   "id": "416e1f00",
   "metadata": {},
   "source": [
    "Due to the weak insight that I can take from the last two scatterplots, I will do my linear regression analysis based on the relationship between Sales Volume and Average Price"
   ]
  },
  {
   "cell_type": "markdown",
   "id": "42a1ecc0",
   "metadata": {},
   "source": [
    "### 4. Hypothesis"
   ]
  },
  {
   "cell_type": "markdown",
   "id": "68641256",
   "metadata": {},
   "source": [
    "#### \" The highest the Average Price is, the lowest the Sales Volume\""
   ]
  },
  {
   "cell_type": "markdown",
   "id": "b7f934d0",
   "metadata": {},
   "source": [
    "### 5. Reshaping variables into NumPy arrays"
   ]
  },
  {
   "cell_type": "code",
   "execution_count": 87,
   "id": "3c930f26",
   "metadata": {},
   "outputs": [],
   "source": [
    "# Reshape the variables into NumPy arrays and put them into separate objects.\n",
    "\n",
    "X = uk_hpi['AveragePrice'].values.reshape(-1,1)\n",
    "y = uk_hpi['SalesVolume'].values.reshape(-1,1)"
   ]
  },
  {
   "cell_type": "code",
   "execution_count": 88,
   "id": "deba0c40",
   "metadata": {},
   "outputs": [
    {
     "data": {
      "text/plain": [
       "array([[ 81693.66964],\n",
       "       [ 81678.76231],\n",
       "       [ 83525.09702],\n",
       "       ...,\n",
       "       [189337.9622 ],\n",
       "       [193306.5814 ],\n",
       "       [196876.8213 ]])"
      ]
     },
     "execution_count": 88,
     "metadata": {},
     "output_type": "execute_result"
    }
   ],
   "source": [
    "# To look how they look like\n",
    "\n",
    "X"
   ]
  },
  {
   "cell_type": "code",
   "execution_count": 89,
   "id": "299a62d1",
   "metadata": {},
   "outputs": [
    {
     "data": {
      "text/plain": [
       "array([[ 388.],\n",
       "       [ 326.],\n",
       "       [ 453.],\n",
       "       ...,\n",
       "       [2538.],\n",
       "       [ 214.],\n",
       "       [ 214.]])"
      ]
     },
     "execution_count": 89,
     "metadata": {},
     "output_type": "execute_result"
    }
   ],
   "source": [
    "y"
   ]
  },
  {
   "cell_type": "markdown",
   "id": "c2ee2bb9",
   "metadata": {},
   "source": [
    "### 6. Splitting data"
   ]
  },
  {
   "cell_type": "code",
   "execution_count": 90,
   "id": "638274d8",
   "metadata": {},
   "outputs": [],
   "source": [
    "# As a last preparation step, I will split data into a training set and a test set.\n",
    "\n",
    "X_train, X_test, y_train, y_test = train_test_split(X, y, test_size=0.3, random_state=0)"
   ]
  },
  {
   "cell_type": "markdown",
   "id": "dee49444",
   "metadata": {},
   "source": [
    "### 7. Regression Analysis"
   ]
  },
  {
   "cell_type": "markdown",
   "id": "fd93ca91",
   "metadata": {},
   "source": [
    "#### 7.1. Fitting model to training set"
   ]
  },
  {
   "cell_type": "code",
   "execution_count": 91,
   "id": "21a849ef",
   "metadata": {},
   "outputs": [],
   "source": [
    "# Firstly I will create a regression object\n",
    "\n",
    "regression = LinearRegression()"
   ]
  },
  {
   "cell_type": "code",
   "execution_count": 92,
   "id": "a9aa3585",
   "metadata": {},
   "outputs": [
    {
     "data": {
      "text/plain": [
       "LinearRegression()"
      ]
     },
     "execution_count": 92,
     "metadata": {},
     "output_type": "execute_result"
    }
   ],
   "source": [
    "# Then, I fit the regression object onto the training set\n",
    "\n",
    "regression.fit(X_train, y_train)"
   ]
  },
  {
   "cell_type": "markdown",
   "id": "2d960c80",
   "metadata": {},
   "source": [
    "#### 7.2. Predicting on the test set"
   ]
  },
  {
   "cell_type": "code",
   "execution_count": 93,
   "id": "e52ed18f",
   "metadata": {},
   "outputs": [],
   "source": [
    "# Let's predict the values of y using X.\n",
    "\n",
    "y_predicted = regression.predict(X_test)"
   ]
  },
  {
   "cell_type": "markdown",
   "id": "611ef563",
   "metadata": {},
   "source": [
    "### 8. Plotting regression line on test set"
   ]
  },
  {
   "cell_type": "code",
   "execution_count": 94,
   "id": "82b51afd",
   "metadata": {},
   "outputs": [
    {
     "data": {
      "image/png": "[encoded data removed]",
      "text/plain": [
       "<Figure size 432x288 with 1 Axes>"
      ]
     },
     "metadata": {
      "needs_background": "light"
     },
     "output_type": "display_data"
    }
   ],
   "source": [
    "# Then create a plot showing the regression line from the model on the test set.\n",
    "\n",
    "plot_test = plt\n",
    "plot_test.scatter(X_test, y_test, color='black', s = 15)\n",
    "plot_test.plot(X_test, y_predicted, color='orange', linewidth =3)\n",
    "plot_test.title('Sales Volume vs Average Price (Test set)')\n",
    "plot_test.xlabel('Average Price')\n",
    "plot_test.ylabel('Sales Volume')\n",
    "plot_test.show()"
   ]
  },
  {
   "cell_type": "markdown",
   "id": "47f9edb3",
   "metadata": {},
   "source": [
    "### 9. Interpretation"
   ]
  },
  {
   "cell_type": "markdown",
   "id": "8f167f91",
   "metadata": {},
   "source": [
    "As we can see, the line is completely horizontal, meaning that this model wouldn't be useful. There are still too many points out and far from the regression line, so a linear regression wouldn't be appropiated to predict the sales based on the average price. Also it cross my mind how the model would change if I remove those values from the Sales Volume that are equal to 0, but I would be removing something I am not 100 % sure it is not correct. It could be that certain areas in certain months didn't have any sales."
   ]
  },
  {
   "cell_type": "markdown",
   "id": "835c8f5a",
   "metadata": {},
   "source": [
    "### 10. Checking model performance statistics"
   ]
  },
  {
   "cell_type": "code",
   "execution_count": 95,
   "id": "e44e3618",
   "metadata": {},
   "outputs": [],
   "source": [
    "# Firstly let's create objects for each of the model summary statistics to analyse\n",
    "\n",
    "# Mean squared error\n",
    "rmse = mean_squared_error(y_test, y_predicted) \n",
    "\n",
    "# R2 score. \n",
    "r2 = r2_score(y_test, y_predicted) "
   ]
  },
  {
   "cell_type": "code",
   "execution_count": 96,
   "id": "e5dd6bc4",
   "metadata": {},
   "outputs": [
    {
     "name": "stdout",
     "output_type": "stream",
     "text": [
      "Slope: [[8.46967403e-05]]\n",
      "Mean squared error:  57243676.828183815\n",
      "R2 score:  -2.0921444136012823e-05\n"
     ]
    }
   ],
   "source": [
    "# Then, to see the results of those statistics\n",
    "\n",
    "print('Slope:' ,regression.coef_)\n",
    "print('Mean squared error: ', rmse)\n",
    "print('R2 score: ', r2)"
   ]
  },
  {
   "cell_type": "markdown",
   "id": "182dd587",
   "metadata": {},
   "source": [
    "As we saw visually, our model wouldn't be useful to predict the sales volume. The R2 score is very close to 0 and negative, meaning that the model fits worse than a horizontal line, its a very poor fit. The mean squared error is huge, which indicates that the regression line is very far from the data points, and that it is not accurate. "
   ]
  },
  {
   "cell_type": "markdown",
   "id": "5b6d0f58",
   "metadata": {},
   "source": [
    "### 11. Comparing predicted and actual values "
   ]
  },
  {
   "cell_type": "code",
   "execution_count": 86,
   "id": "fb40b2f1",
   "metadata": {},
   "outputs": [
    {
     "data": {
      "text/html": [
       "<div>\n",
       "<style scoped>\n",
       "    .dataframe tbody tr th:only-of-type {\n",
       "        vertical-align: middle;\n",
       "    }\n",
       "\n",
       "    .dataframe tbody tr th {\n",
       "        vertical-align: top;\n",
       "    }\n",
       "\n",
       "    .dataframe thead th {\n",
       "        text-align: right;\n",
       "    }\n",
       "</style>\n",
       "<table border=\"1\" class=\"dataframe\">\n",
       "  <thead>\n",
       "    <tr style=\"text-align: right;\">\n",
       "      <th></th>\n",
       "      <th>Actual</th>\n",
       "      <th>Predicted</th>\n",
       "    </tr>\n",
       "  </thead>\n",
       "  <tbody>\n",
       "    <tr>\n",
       "      <th>0</th>\n",
       "      <td>119223.01500</td>\n",
       "      <td>166362.638906</td>\n",
       "    </tr>\n",
       "    <tr>\n",
       "      <th>1</th>\n",
       "      <td>229167.67170</td>\n",
       "      <td>166338.540849</td>\n",
       "    </tr>\n",
       "    <tr>\n",
       "      <th>2</th>\n",
       "      <td>70286.90787</td>\n",
       "      <td>166359.723818</td>\n",
       "    </tr>\n",
       "    <tr>\n",
       "      <th>3</th>\n",
       "      <td>121851.17620</td>\n",
       "      <td>166337.005569</td>\n",
       "    </tr>\n",
       "    <tr>\n",
       "      <th>4</th>\n",
       "      <td>40328.08228</td>\n",
       "      <td>166345.090079</td>\n",
       "    </tr>\n",
       "    <tr>\n",
       "      <th>5</th>\n",
       "      <td>231973.17020</td>\n",
       "      <td>166336.189345</td>\n",
       "    </tr>\n",
       "    <tr>\n",
       "      <th>6</th>\n",
       "      <td>19990.86911</td>\n",
       "      <td>166339.668016</td>\n",
       "    </tr>\n",
       "    <tr>\n",
       "      <th>7</th>\n",
       "      <td>136981.88630</td>\n",
       "      <td>166339.687450</td>\n",
       "    </tr>\n",
       "    <tr>\n",
       "      <th>8</th>\n",
       "      <td>282088.23080</td>\n",
       "      <td>166341.591974</td>\n",
       "    </tr>\n",
       "    <tr>\n",
       "      <th>9</th>\n",
       "      <td>145709.40500</td>\n",
       "      <td>166431.260066</td>\n",
       "    </tr>\n",
       "    <tr>\n",
       "      <th>10</th>\n",
       "      <td>47131.98098</td>\n",
       "      <td>166339.940091</td>\n",
       "    </tr>\n",
       "    <tr>\n",
       "      <th>11</th>\n",
       "      <td>273984.82220</td>\n",
       "      <td>166340.581410</td>\n",
       "    </tr>\n",
       "    <tr>\n",
       "      <th>12</th>\n",
       "      <td>63351.59226</td>\n",
       "      <td>166342.952348</td>\n",
       "    </tr>\n",
       "    <tr>\n",
       "      <th>13</th>\n",
       "      <td>62035.18231</td>\n",
       "      <td>166339.493111</td>\n",
       "    </tr>\n",
       "    <tr>\n",
       "      <th>14</th>\n",
       "      <td>104850.43170</td>\n",
       "      <td>166338.735188</td>\n",
       "    </tr>\n",
       "    <tr>\n",
       "      <th>15</th>\n",
       "      <td>72758.30952</td>\n",
       "      <td>166335.956138</td>\n",
       "    </tr>\n",
       "    <tr>\n",
       "      <th>16</th>\n",
       "      <td>224879.47570</td>\n",
       "      <td>166340.950654</td>\n",
       "    </tr>\n",
       "    <tr>\n",
       "      <th>17</th>\n",
       "      <td>40853.90284</td>\n",
       "      <td>166350.278935</td>\n",
       "    </tr>\n",
       "    <tr>\n",
       "      <th>18</th>\n",
       "      <td>72879.19104</td>\n",
       "      <td>166357.177975</td>\n",
       "    </tr>\n",
       "    <tr>\n",
       "      <th>19</th>\n",
       "      <td>48334.52758</td>\n",
       "      <td>166339.648582</td>\n",
       "    </tr>\n",
       "    <tr>\n",
       "      <th>20</th>\n",
       "      <td>241989.46750</td>\n",
       "      <td>167472.276693</td>\n",
       "    </tr>\n",
       "    <tr>\n",
       "      <th>21</th>\n",
       "      <td>114354.52020</td>\n",
       "      <td>166342.563670</td>\n",
       "    </tr>\n",
       "    <tr>\n",
       "      <th>22</th>\n",
       "      <td>143325.76940</td>\n",
       "      <td>166338.210472</td>\n",
       "    </tr>\n",
       "    <tr>\n",
       "      <th>23</th>\n",
       "      <td>129308.51700</td>\n",
       "      <td>166339.007263</td>\n",
       "    </tr>\n",
       "    <tr>\n",
       "      <th>24</th>\n",
       "      <td>143198.34440</td>\n",
       "      <td>166372.997183</td>\n",
       "    </tr>\n",
       "    <tr>\n",
       "      <th>25</th>\n",
       "      <td>324282.85880</td>\n",
       "      <td>166341.747445</td>\n",
       "    </tr>\n",
       "    <tr>\n",
       "      <th>26</th>\n",
       "      <td>44718.92593</td>\n",
       "      <td>166365.787200</td>\n",
       "    </tr>\n",
       "    <tr>\n",
       "      <th>27</th>\n",
       "      <td>164752.14280</td>\n",
       "      <td>166341.242163</td>\n",
       "    </tr>\n",
       "    <tr>\n",
       "      <th>28</th>\n",
       "      <td>106119.10480</td>\n",
       "      <td>166341.766879</td>\n",
       "    </tr>\n",
       "    <tr>\n",
       "      <th>29</th>\n",
       "      <td>149991.62260</td>\n",
       "      <td>166338.404811</td>\n",
       "    </tr>\n",
       "    <tr>\n",
       "      <th>30</th>\n",
       "      <td>75968.23816</td>\n",
       "      <td>166340.348203</td>\n",
       "    </tr>\n",
       "    <tr>\n",
       "      <th>31</th>\n",
       "      <td>125332.78830</td>\n",
       "      <td>166342.252727</td>\n",
       "    </tr>\n",
       "    <tr>\n",
       "      <th>32</th>\n",
       "      <td>69844.08186</td>\n",
       "      <td>166338.735188</td>\n",
       "    </tr>\n",
       "    <tr>\n",
       "      <th>33</th>\n",
       "      <td>77395.98393</td>\n",
       "      <td>166339.648582</td>\n",
       "    </tr>\n",
       "    <tr>\n",
       "      <th>34</th>\n",
       "      <td>154483.45400</td>\n",
       "      <td>166341.805747</td>\n",
       "    </tr>\n",
       "    <tr>\n",
       "      <th>35</th>\n",
       "      <td>95198.59181</td>\n",
       "      <td>166341.844615</td>\n",
       "    </tr>\n",
       "    <tr>\n",
       "      <th>36</th>\n",
       "      <td>79969.39986</td>\n",
       "      <td>166339.182168</td>\n",
       "    </tr>\n",
       "    <tr>\n",
       "      <th>37</th>\n",
       "      <td>135837.20460</td>\n",
       "      <td>166342.621971</td>\n",
       "    </tr>\n",
       "    <tr>\n",
       "      <th>38</th>\n",
       "      <td>225468.58520</td>\n",
       "      <td>166358.693821</td>\n",
       "    </tr>\n",
       "    <tr>\n",
       "      <th>39</th>\n",
       "      <td>99582.63778</td>\n",
       "      <td>166338.657452</td>\n",
       "    </tr>\n",
       "  </tbody>\n",
       "</table>\n",
       "</div>"
      ],
      "text/plain": [
       "          Actual      Predicted\n",
       "0   119223.01500  166362.638906\n",
       "1   229167.67170  166338.540849\n",
       "2    70286.90787  166359.723818\n",
       "3   121851.17620  166337.005569\n",
       "4    40328.08228  166345.090079\n",
       "5   231973.17020  166336.189345\n",
       "6    19990.86911  166339.668016\n",
       "7   136981.88630  166339.687450\n",
       "8   282088.23080  166341.591974\n",
       "9   145709.40500  166431.260066\n",
       "10   47131.98098  166339.940091\n",
       "11  273984.82220  166340.581410\n",
       "12   63351.59226  166342.952348\n",
       "13   62035.18231  166339.493111\n",
       "14  104850.43170  166338.735188\n",
       "15   72758.30952  166335.956138\n",
       "16  224879.47570  166340.950654\n",
       "17   40853.90284  166350.278935\n",
       "18   72879.19104  166357.177975\n",
       "19   48334.52758  166339.648582\n",
       "20  241989.46750  167472.276693\n",
       "21  114354.52020  166342.563670\n",
       "22  143325.76940  166338.210472\n",
       "23  129308.51700  166339.007263\n",
       "24  143198.34440  166372.997183\n",
       "25  324282.85880  166341.747445\n",
       "26   44718.92593  166365.787200\n",
       "27  164752.14280  166341.242163\n",
       "28  106119.10480  166341.766879\n",
       "29  149991.62260  166338.404811\n",
       "30   75968.23816  166340.348203\n",
       "31  125332.78830  166342.252727\n",
       "32   69844.08186  166338.735188\n",
       "33   77395.98393  166339.648582\n",
       "34  154483.45400  166341.805747\n",
       "35   95198.59181  166341.844615\n",
       "36   79969.39986  166339.182168\n",
       "37  135837.20460  166342.621971\n",
       "38  225468.58520  166358.693821\n",
       "39   99582.63778  166338.657452"
      ]
     },
     "execution_count": 86,
     "metadata": {},
     "output_type": "execute_result"
    }
   ],
   "source": [
    "# Let's create a dataframe comparing the actual and predicted values of y.\n",
    "\n",
    "data = pd.DataFrame({'Actual': y_test.flatten(), 'Predicted': y_predicted.flatten()})\n",
    "data.head(40)"
   ]
  },
  {
   "cell_type": "markdown",
   "id": "b751ba45",
   "metadata": {},
   "source": [
    "### 12. Conclussions"
   ]
  },
  {
   "cell_type": "markdown",
   "id": "77a3e1b2",
   "metadata": {},
   "source": [
    "We can strongly conclude that this model is pure rubbish when trying to predict the sales volume based solely on the sale price. The actual values and the predicted values are not even close, horizontal regression lines mean that the result of the dependent variable doesn't change with movements on the independent variable. It seems clear that for a lower average price there are more sales, as there are many more points accumulated between 0.01 and 0.3 ( £10000 & £300000, respectively) than in the rest of the graph. A regression curve would much better predict the behaviour of the sales."
   ]
  },
  {
   "cell_type": "markdown",
   "id": "642319bc",
   "metadata": {},
   "source": [
    "### Bonus: performance improvement after removing outliers"
   ]
  },
  {
   "cell_type": "code",
   "execution_count": 97,
   "id": "1accd530",
   "metadata": {},
   "outputs": [],
   "source": [
    "# Clean the extreme values from the \"Price per Unit\" variable observed during the consistency checks.\n",
    "\n",
    "uk_hpi_test = uk_hpi[uk_hpi['SalesVolume'] > 0 ] "
   ]
  },
  {
   "cell_type": "code",
   "execution_count": 98,
   "id": "01b72fd4",
   "metadata": {},
   "outputs": [
    {
     "data": {
      "image/png": "[encoded data removed]",
      "text/plain": [
       "<Figure size 432x288 with 1 Axes>"
      ]
     },
     "metadata": {
      "needs_background": "light"
     },
     "output_type": "display_data"
    }
   ],
   "source": [
    "# See how the scatterplot looks without outliers.\n",
    "\n",
    "uk_hpi_test.plot(x = 'AveragePrice', y='SalesVolume',style='o') \n",
    "plt.title('Average Price vs Sales Volume')  \n",
    "plt.xlabel('Average Price')  \n",
    "plt.ylabel('Sales Volume')  \n",
    "plt.show()\n"
   ]
  },
  {
   "cell_type": "markdown",
   "id": "8e2876d0",
   "metadata": {},
   "source": [
    "I can see already that there is still many values  on the 0 or very close to it. Since I don't want to remove more data and this model can't really improve much, I won't continue with this last analysis. "
   ]
  },
  {
   "cell_type": "code",
   "execution_count": null,
   "id": "2f962330",
   "metadata": {},
   "outputs": [],
   "source": []
  }
 ],
 "metadata": {
  "kernelspec": {
   "display_name": "Python 3",
   "language": "python",
   "name": "python3"
  },
  "language_info": {
   "codemirror_mode": {
    "name": "ipython",
    "version": 3
   },
   "file_extension": ".py",
   "mimetype": "text/x-python",
   "name": "python",
   "nbconvert_exporter": "python",
   "pygments_lexer": "ipython3",
   "version": "3.8.8"
  }
 },
 "nbformat": 4,
 "nbformat_minor": 5
}
